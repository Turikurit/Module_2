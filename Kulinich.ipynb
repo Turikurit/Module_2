{
 "cells": [
  {
   "cell_type": "markdown",
   "id": "e7f897ca",
   "metadata": {
    "id": "e7f897ca"
   },
   "source": [
    "# Анализ лояльности пользователей Яндекс Афиши"
   ]
  },
  {
   "cell_type": "markdown",
   "id": "ab3b93fd",
   "metadata": {
    "id": "ab3b93fd"
   },
   "source": [
    "## Этапы выполнения проекта\n",
    "\n",
    "### 1. Загрузка данных и их предобработка\n",
    "\n",
    "---\n",
    "\n",
    "**Задача 1.1:** Напишите SQL-запрос, выгружающий в датафрейм pandas необходимые данные. Используйте следующие параметры для подключения к базе данных:\n",
    "\n",
    "\n",
    "\n",
    "Для выгрузки используйте запрос из предыдущего урока и библиотеку SQLAlchemy.\n",
    "\n",
    "Выгрузка из базы данных SQL должна позволить собрать следующие данные:\n",
    "\n",
    "- `user_id` — уникальный идентификатор пользователя, совершившего заказ;\n",
    "- `device_type_canonical` — тип устройства, с которого был оформлен заказ (`mobile` — мобильные устройства, `desktop` — стационарные);\n",
    "- `order_id` — уникальный идентификатор заказа;\n",
    "- `order_dt` — дата создания заказа (используйте данные `created_dt_msk`);\n",
    "- `order_ts` — дата и время создания заказа (используйте данные `created_ts_msk`);\n",
    "- `currency_code` — валюта оплаты;\n",
    "- `revenue` — выручка от заказа;\n",
    "- `tickets_count` — количество купленных билетов;\n",
    "- `days_since_prev` — количество дней от предыдущей покупки пользователя, для пользователей с одной покупкой — значение пропущено;\n",
    "- `event_id` — уникальный идентификатор мероприятия;\n",
    "- `service_name` — название билетного оператора;\n",
    "- `event_type_main` — основной тип мероприятия (театральная постановка, концерт и так далее);\n",
    "- `region_name` — название региона, в котором прошло мероприятие;\n",
    "- `city_name` — название города, в котором прошло мероприятие.\n",
    "\n",
    "---\n"
   ]
  },
  {
   "cell_type": "code",
   "execution_count": 1,
   "id": "c1389059-f0b3-4d5d-ae08-79cc142e5a5f",
   "metadata": {},
   "outputs": [],
   "source": [
    "# === Установка окружения и импорт библиотек ===\n",
    "import os, io, json, math, textwrap, warnings\n",
    "warnings.filterwarnings(\"ignore\")\n",
    "\n",
    "import numpy as np\n",
    "import pandas as pd\n",
    "import matplotlib.pyplot as plt\n",
    "\n",
    "from sqlalchemy import create_engine, text\n",
    "import datetime as dt\n",
    "\n",
    "try:\n",
    "    from phik.report import plot_correlation_matrix\n",
    "    from phik import phik_matrix\n",
    "except Exception as e:\n",
    "    print(\"phik не установлен — установите (pip install phik)\")\n",
    "    \n",
    "pd.options.display.max_rows = 200\n",
    "pd.options.display.max_columns = 200\n",
    "pd.options.display.width = 140"
   ]
  },
  {
   "cell_type": "code",
   "execution_count": 2,
   "id": "a2086454-5703-46f4-9bbc-7d542e48eba8",
   "metadata": {},
   "outputs": [],
   "source": [
    "from dotenv import load_dotenv\n",
    "import os\n",
    "\n",
    "load_dotenv()\n",
    "\n",
    "DB_HOST=os.getenv(\"DB_HOST\")\n",
    "DB_NAME=os.getenv(\"DB_NAME\")\n",
    "DB_PORT=os.getenv(\"DB_PORT\")\n",
    "DB_USER=os.getenv(\"DB_USER\")\n",
    "DB_PASSWORD=os.getenv(\"DB_PASSWORD\")"
   ]
  },
  {
   "cell_type": "code",
   "execution_count": 3,
   "id": "6e024204",
   "metadata": {
    "id": "6e024204"
   },
   "outputs": [],
   "source": [
    "# Импорт библиотек\n",
    "import pandas as pd\n",
    "from sqlalchemy import create_engine\n",
    "\n",
    "# Подключение к базе данных\n",
    "# ЗАМЕНИ <PASSWORD> на свой реальный пароль из задания\n",
    "engine = create_engine(\n",
    "    f\"postgresql+psycopg2://{DB_USER}:{DB_PASSWORD}@{DB_HOST}:{DB_PORT}/{DB_NAME}?sslmode=require\"\n",
    ")\n",
    "\n",
    "# SQL-запрос (правильный вариант)\n",
    "sql = \"\"\"\n",
    "select \n",
    "    p.user_id, \n",
    "    p.device_type_canonical,\n",
    "    p.order_id,\n",
    "    p.created_dt_msk as order_dt,\n",
    "    p.created_ts_msk as order_ts,\n",
    "    p.currency_code,\n",
    "    p.revenue, \n",
    "    p.tickets_count,\n",
    "    extract('days' from p.created_dt_msk - lag(p.created_dt_msk) over(partition by user_id order by p.created_dt_msk)) as days_since_prev,\n",
    "    p.event_id, \n",
    "    e.event_name_code as event_name,\n",
    "    e.event_type_main, \n",
    "    p.service_name,\n",
    "    r.region_name, \n",
    "    c.city_name \n",
    "from afisha.purchases as p \n",
    "inner JOIN afisha.events AS e ON p.event_id = e.event_id \n",
    "LEFT JOIN afisha.city AS c ON e.city_id = c.city_id \n",
    "LEFT JOIN afisha.regions AS r ON c.region_id = r.region_id\n",
    "where device_type_canonical in ('mobile', 'desktop') \n",
    "  and e.event_type_main != 'фильм'\n",
    "order by user_id\n",
    "\"\"\"\n",
    "\n",
    "# Загрузка данных\n",
    "df = pd.read_sql(sql, engine)\n",
    "\n"
   ]
  },
  {
   "cell_type": "markdown",
   "id": "120237b6",
   "metadata": {
    "id": "120237b6"
   },
   "source": [
    "---\n",
    "\n",
    "**Задача 1.2:** Изучите общую информацию о выгруженных данных. Оцените корректность выгрузки и объём полученных данных.\n",
    "\n",
    "Предположите, какие шаги необходимо сделать на стадии предобработки данных — например, скорректировать типы данных.\n",
    "\n",
    "Зафиксируйте основную информацию о данных в кратком промежуточном выводе.\n",
    "\n",
    "---"
   ]
  },
  {
   "cell_type": "code",
   "execution_count": 4,
   "id": "e8c6517f",
   "metadata": {
    "id": "e8c6517f"
   },
   "outputs": [
    {
     "name": "stdout",
     "output_type": "stream",
     "text": [
      "<class 'pandas.core.frame.DataFrame'>\n",
      "RangeIndex: 290611 entries, 0 to 290610\n",
      "Data columns (total 15 columns):\n",
      " #   Column                 Non-Null Count   Dtype         \n",
      "---  ------                 --------------   -----         \n",
      " 0   user_id                290611 non-null  object        \n",
      " 1   device_type_canonical  290611 non-null  object        \n",
      " 2   order_id               290611 non-null  int64         \n",
      " 3   order_dt               290611 non-null  datetime64[ns]\n",
      " 4   order_ts               290611 non-null  datetime64[ns]\n",
      " 5   currency_code          290611 non-null  object        \n",
      " 6   revenue                290611 non-null  float64       \n",
      " 7   tickets_count          290611 non-null  int64         \n",
      " 8   days_since_prev        268678 non-null  float64       \n",
      " 9   event_id               290611 non-null  int64         \n",
      " 10  event_name             290611 non-null  object        \n",
      " 11  event_type_main        290611 non-null  object        \n",
      " 12  service_name           290611 non-null  object        \n",
      " 13  region_name            290611 non-null  object        \n",
      " 14  city_name              290611 non-null  object        \n",
      "dtypes: datetime64[ns](2), float64(2), int64(3), object(8)\n",
      "memory usage: 33.3+ MB\n"
     ]
    },
    {
     "data": {
      "text/html": [
       "<div>\n",
       "<style scoped>\n",
       "    .dataframe tbody tr th:only-of-type {\n",
       "        vertical-align: middle;\n",
       "    }\n",
       "\n",
       "    .dataframe tbody tr th {\n",
       "        vertical-align: top;\n",
       "    }\n",
       "\n",
       "    .dataframe thead th {\n",
       "        text-align: right;\n",
       "    }\n",
       "</style>\n",
       "<table border=\"1\" class=\"dataframe\">\n",
       "  <thead>\n",
       "    <tr style=\"text-align: right;\">\n",
       "      <th></th>\n",
       "      <th>user_id</th>\n",
       "      <th>device_type_canonical</th>\n",
       "      <th>order_id</th>\n",
       "      <th>order_dt</th>\n",
       "      <th>order_ts</th>\n",
       "      <th>currency_code</th>\n",
       "      <th>revenue</th>\n",
       "      <th>tickets_count</th>\n",
       "      <th>days_since_prev</th>\n",
       "      <th>event_id</th>\n",
       "      <th>event_name</th>\n",
       "      <th>event_type_main</th>\n",
       "      <th>service_name</th>\n",
       "      <th>region_name</th>\n",
       "      <th>city_name</th>\n",
       "    </tr>\n",
       "  </thead>\n",
       "  <tbody>\n",
       "    <tr>\n",
       "      <th>0</th>\n",
       "      <td>0002849b70a3ce2</td>\n",
       "      <td>mobile</td>\n",
       "      <td>4359165</td>\n",
       "      <td>2024-08-20</td>\n",
       "      <td>2024-08-20 16:08:03</td>\n",
       "      <td>rub</td>\n",
       "      <td>1521.94</td>\n",
       "      <td>4</td>\n",
       "      <td>NaN</td>\n",
       "      <td>169230</td>\n",
       "      <td>f0f7b271-04eb-4af6-bcb8-8f05cf46d6ad</td>\n",
       "      <td>театр</td>\n",
       "      <td>Край билетов</td>\n",
       "      <td>Каменевский регион</td>\n",
       "      <td>Глиногорск</td>\n",
       "    </tr>\n",
       "    <tr>\n",
       "      <th>1</th>\n",
       "      <td>0005ca5e93f2cf4</td>\n",
       "      <td>mobile</td>\n",
       "      <td>7965605</td>\n",
       "      <td>2024-07-23</td>\n",
       "      <td>2024-07-23 18:36:24</td>\n",
       "      <td>rub</td>\n",
       "      <td>289.45</td>\n",
       "      <td>2</td>\n",
       "      <td>NaN</td>\n",
       "      <td>237325</td>\n",
       "      <td>40efeb04-81b7-4135-b41f-708ff00cc64c</td>\n",
       "      <td>выставки</td>\n",
       "      <td>Мой билет</td>\n",
       "      <td>Каменевский регион</td>\n",
       "      <td>Глиногорск</td>\n",
       "    </tr>\n",
       "    <tr>\n",
       "      <th>2</th>\n",
       "      <td>0005ca5e93f2cf4</td>\n",
       "      <td>mobile</td>\n",
       "      <td>7292370</td>\n",
       "      <td>2024-10-06</td>\n",
       "      <td>2024-10-06 13:56:02</td>\n",
       "      <td>rub</td>\n",
       "      <td>1258.57</td>\n",
       "      <td>4</td>\n",
       "      <td>75.0</td>\n",
       "      <td>578454</td>\n",
       "      <td>01f3fb7b-ed07-4f94-b1d3-9a2e1ee5a8ca</td>\n",
       "      <td>другое</td>\n",
       "      <td>За билетом!</td>\n",
       "      <td>Каменевский регион</td>\n",
       "      <td>Глиногорск</td>\n",
       "    </tr>\n",
       "    <tr>\n",
       "      <th>3</th>\n",
       "      <td>000898990054619</td>\n",
       "      <td>mobile</td>\n",
       "      <td>1139875</td>\n",
       "      <td>2024-07-13</td>\n",
       "      <td>2024-07-13 19:40:48</td>\n",
       "      <td>rub</td>\n",
       "      <td>8.49</td>\n",
       "      <td>2</td>\n",
       "      <td>NaN</td>\n",
       "      <td>387271</td>\n",
       "      <td>2f638715-8844-466c-b43f-378a627c419f</td>\n",
       "      <td>другое</td>\n",
       "      <td>Лови билет!</td>\n",
       "      <td>Североярская область</td>\n",
       "      <td>Озёрск</td>\n",
       "    </tr>\n",
       "    <tr>\n",
       "      <th>4</th>\n",
       "      <td>000898990054619</td>\n",
       "      <td>mobile</td>\n",
       "      <td>972400</td>\n",
       "      <td>2024-10-04</td>\n",
       "      <td>2024-10-04 22:33:15</td>\n",
       "      <td>rub</td>\n",
       "      <td>1390.41</td>\n",
       "      <td>3</td>\n",
       "      <td>83.0</td>\n",
       "      <td>509453</td>\n",
       "      <td>10d805d3-9809-4d8a-834e-225b7d03f95d</td>\n",
       "      <td>стендап</td>\n",
       "      <td>Билеты без проблем</td>\n",
       "      <td>Озернинский край</td>\n",
       "      <td>Родниковецк</td>\n",
       "    </tr>\n",
       "  </tbody>\n",
       "</table>\n",
       "</div>"
      ],
      "text/plain": [
       "           user_id device_type_canonical  order_id   order_dt            order_ts currency_code  revenue  tickets_count  days_since_prev  \\\n",
       "0  0002849b70a3ce2                mobile   4359165 2024-08-20 2024-08-20 16:08:03           rub  1521.94              4              NaN   \n",
       "1  0005ca5e93f2cf4                mobile   7965605 2024-07-23 2024-07-23 18:36:24           rub   289.45              2              NaN   \n",
       "2  0005ca5e93f2cf4                mobile   7292370 2024-10-06 2024-10-06 13:56:02           rub  1258.57              4             75.0   \n",
       "3  000898990054619                mobile   1139875 2024-07-13 2024-07-13 19:40:48           rub     8.49              2              NaN   \n",
       "4  000898990054619                mobile    972400 2024-10-04 2024-10-04 22:33:15           rub  1390.41              3             83.0   \n",
       "\n",
       "   event_id                            event_name event_type_main        service_name           region_name    city_name  \n",
       "0    169230  f0f7b271-04eb-4af6-bcb8-8f05cf46d6ad           театр        Край билетов    Каменевский регион   Глиногорск  \n",
       "1    237325  40efeb04-81b7-4135-b41f-708ff00cc64c        выставки           Мой билет    Каменевский регион   Глиногорск  \n",
       "2    578454  01f3fb7b-ed07-4f94-b1d3-9a2e1ee5a8ca          другое         За билетом!    Каменевский регион   Глиногорск  \n",
       "3    387271  2f638715-8844-466c-b43f-378a627c419f          другое         Лови билет!  Североярская область       Озёрск  \n",
       "4    509453  10d805d3-9809-4d8a-834e-225b7d03f95d         стендап  Билеты без проблем      Озернинский край  Родниковецк  "
      ]
     },
     "execution_count": 4,
     "metadata": {},
     "output_type": "execute_result"
    }
   ],
   "source": [
    "# Просмотр структуры\n",
    "df.info()\n",
    "df.head()"
   ]
  },
  {
   "cell_type": "code",
   "execution_count": 5,
   "id": "4e92d3f3-a52b-443e-bf50-ec936519f56e",
   "metadata": {},
   "outputs": [
    {
     "name": "stdout",
     "output_type": "stream",
     "text": [
      "(290611, 15)\n"
     ]
    },
    {
     "data": {
      "text/html": [
       "<div>\n",
       "<style scoped>\n",
       "    .dataframe tbody tr th:only-of-type {\n",
       "        vertical-align: middle;\n",
       "    }\n",
       "\n",
       "    .dataframe tbody tr th {\n",
       "        vertical-align: top;\n",
       "    }\n",
       "\n",
       "    .dataframe thead th {\n",
       "        text-align: right;\n",
       "    }\n",
       "</style>\n",
       "<table border=\"1\" class=\"dataframe\">\n",
       "  <thead>\n",
       "    <tr style=\"text-align: right;\">\n",
       "      <th></th>\n",
       "      <th>user_id</th>\n",
       "      <th>device_type_canonical</th>\n",
       "      <th>order_id</th>\n",
       "      <th>order_dt</th>\n",
       "      <th>order_ts</th>\n",
       "      <th>currency_code</th>\n",
       "      <th>revenue</th>\n",
       "      <th>tickets_count</th>\n",
       "      <th>days_since_prev</th>\n",
       "      <th>event_id</th>\n",
       "      <th>event_name</th>\n",
       "      <th>event_type_main</th>\n",
       "      <th>service_name</th>\n",
       "      <th>region_name</th>\n",
       "      <th>city_name</th>\n",
       "    </tr>\n",
       "  </thead>\n",
       "  <tbody>\n",
       "    <tr>\n",
       "      <th>0</th>\n",
       "      <td>0002849b70a3ce2</td>\n",
       "      <td>mobile</td>\n",
       "      <td>4359165</td>\n",
       "      <td>2024-08-20</td>\n",
       "      <td>2024-08-20 16:08:03</td>\n",
       "      <td>rub</td>\n",
       "      <td>1521.94</td>\n",
       "      <td>4</td>\n",
       "      <td>NaN</td>\n",
       "      <td>169230</td>\n",
       "      <td>f0f7b271-04eb-4af6-bcb8-8f05cf46d6ad</td>\n",
       "      <td>театр</td>\n",
       "      <td>Край билетов</td>\n",
       "      <td>Каменевский регион</td>\n",
       "      <td>Глиногорск</td>\n",
       "    </tr>\n",
       "    <tr>\n",
       "      <th>1</th>\n",
       "      <td>0005ca5e93f2cf4</td>\n",
       "      <td>mobile</td>\n",
       "      <td>7965605</td>\n",
       "      <td>2024-07-23</td>\n",
       "      <td>2024-07-23 18:36:24</td>\n",
       "      <td>rub</td>\n",
       "      <td>289.45</td>\n",
       "      <td>2</td>\n",
       "      <td>NaN</td>\n",
       "      <td>237325</td>\n",
       "      <td>40efeb04-81b7-4135-b41f-708ff00cc64c</td>\n",
       "      <td>выставки</td>\n",
       "      <td>Мой билет</td>\n",
       "      <td>Каменевский регион</td>\n",
       "      <td>Глиногорск</td>\n",
       "    </tr>\n",
       "    <tr>\n",
       "      <th>2</th>\n",
       "      <td>0005ca5e93f2cf4</td>\n",
       "      <td>mobile</td>\n",
       "      <td>7292370</td>\n",
       "      <td>2024-10-06</td>\n",
       "      <td>2024-10-06 13:56:02</td>\n",
       "      <td>rub</td>\n",
       "      <td>1258.57</td>\n",
       "      <td>4</td>\n",
       "      <td>75.0</td>\n",
       "      <td>578454</td>\n",
       "      <td>01f3fb7b-ed07-4f94-b1d3-9a2e1ee5a8ca</td>\n",
       "      <td>другое</td>\n",
       "      <td>За билетом!</td>\n",
       "      <td>Каменевский регион</td>\n",
       "      <td>Глиногорск</td>\n",
       "    </tr>\n",
       "  </tbody>\n",
       "</table>\n",
       "</div>"
      ],
      "text/plain": [
       "           user_id device_type_canonical  order_id   order_dt            order_ts currency_code  revenue  tickets_count  days_since_prev  \\\n",
       "0  0002849b70a3ce2                mobile   4359165 2024-08-20 2024-08-20 16:08:03           rub  1521.94              4              NaN   \n",
       "1  0005ca5e93f2cf4                mobile   7965605 2024-07-23 2024-07-23 18:36:24           rub   289.45              2              NaN   \n",
       "2  0005ca5e93f2cf4                mobile   7292370 2024-10-06 2024-10-06 13:56:02           rub  1258.57              4             75.0   \n",
       "\n",
       "   event_id                            event_name event_type_main  service_name         region_name   city_name  \n",
       "0    169230  f0f7b271-04eb-4af6-bcb8-8f05cf46d6ad           театр  Край билетов  Каменевский регион  Глиногорск  \n",
       "1    237325  40efeb04-81b7-4135-b41f-708ff00cc64c        выставки     Мой билет  Каменевский регион  Глиногорск  \n",
       "2    578454  01f3fb7b-ed07-4f94-b1d3-9a2e1ee5a8ca          другое   За билетом!  Каменевский регион  Глиногорск  "
      ]
     },
     "metadata": {},
     "output_type": "display_data"
    },
    {
     "data": {
      "text/plain": [
       "user_id                          object\n",
       "device_type_canonical            object\n",
       "order_id                          int64\n",
       "order_dt                 datetime64[ns]\n",
       "order_ts                 datetime64[ns]\n",
       "currency_code                    object\n",
       "revenue                         float64\n",
       "tickets_count                     int64\n",
       "days_since_prev                 float64\n",
       "event_id                          int64\n",
       "event_name                       object\n",
       "event_type_main                  object\n",
       "service_name                     object\n",
       "region_name                      object\n",
       "city_name                        object\n",
       "dtype: object"
      ]
     },
     "metadata": {},
     "output_type": "display_data"
    }
   ],
   "source": [
    "print(df.shape)\n",
    "display(df.head(3))\n",
    "display(df.dtypes)"
   ]
  },
  {
   "cell_type": "markdown",
   "id": "6ba19ce9-6a4b-40b2-842c-f0e112e46b1c",
   "metadata": {
    "id": "6b7d2d83"
   },
   "source": [
    "Объём данных: 290 611 записей, 16 столбцов.\n",
    "\n",
    "Пропуски: только в days_since_prev (21 933 наблюдений), что ожидаемо для первых покупок.\n",
    "\n",
    "Диапазон дат: с 2024-06-01 по 2024-10-31."
   ]
  },
  {
   "cell_type": "markdown",
   "id": "66945343",
   "metadata": {
    "id": "66945343"
   },
   "source": [
    "---\n",
    "\n",
    "###  2. Предобработка данных\n",
    "\n",
    "Выполните все стандартные действия по предобработке данных:\n",
    "\n",
    "---\n",
    "\n",
    "**Задача 2.1:** Данные о выручке сервиса представлены в российских рублях и казахстанских тенге. Приведите выручку к единой валюте — российскому рублю.\n",
    "\n",
    "Для этого используйте датасет с информацией о курсе казахстанского тенге по отношению к российскому рублю за 2024 год — `final_tickets_tenge_df.csv`. Его можно загрузить по пути `https://code.s3.yandex.net/datasets/final_tickets_tenge_df.csv')`\n",
    "\n",
    "Значения в рублях представлено для 100 тенге.\n",
    "\n",
    "Результаты преобразования сохраните в новый столбец `revenue_rub`.\n",
    "\n",
    "---\n"
   ]
  },
  {
   "cell_type": "code",
   "execution_count": 6,
   "id": "48e5ef83",
   "metadata": {
    "id": "48e5ef83"
   },
   "outputs": [],
   "source": [
    "import numpy as np\n",
    "\n",
    "# Приведение валюты: загрузим курс из CSV-файла Яндекс Практикума\n",
    "url = 'https://code.s3.yandex.net/datasets/final_tickets_tenge_df.csv'\n",
    "tenge_rates = pd.read_csv(url)\n",
    "\n",
    "# Проверим курс для 2024 года\n",
    "tenge_rates.head()\n",
    "\n",
    "# Пример конвертации (для пользователей с currency_code='KZT', если такие есть)\n",
    "df['revenue_rub'] = np.where(\n",
    "    df['currency_code'] == 'KZT',\n",
    "    df['revenue'] * tenge_rates['curs'].mean() / 100,\n",
    "    df['revenue']\n",
    ")"
   ]
  },
  {
   "cell_type": "markdown",
   "id": "85672288-af41-4c47-8f2f-d96373e48ec4",
   "metadata": {
    "id": "887667f3"
   },
   "source": [
    "Выручка успешно приведена к рублям: добавлен столбец revenue_rub. Типы данных корректны, пример строк после трансформации выглядит консистентно."
   ]
  },
  {
   "cell_type": "markdown",
   "id": "d9867bfe",
   "metadata": {
    "id": "d9867bfe"
   },
   "source": [
    "---\n",
    "\n",
    "**Задача 2.2:**\n",
    "\n",
    "- Проверьте данные на пропущенные значения. Если выгрузка из SQL была успешной, то пропуски должны быть только в столбце `days_since_prev`.\n",
    "- Преобразуйте типы данных в некоторых столбцах, если это необходимо. Обратите внимание на данные с датой и временем, а также на числовые данные, размерность которых можно сократить.\n",
    "- Изучите значения в ключевых столбцах. Обработайте ошибки, если обнаружите их.\n",
    "    - Проверьте, какие категории указаны в столбцах с номинальными данными. Есть ли среди категорий такие, что обозначают пропуски в данных или отсутствие информации? Проведите нормализацию данных, если это необходимо.\n",
    "    - Проверьте распределение численных данных и наличие в них выбросов. Для этого используйте статистические показатели, гистограммы распределения значений или диаграммы размаха.\n",
    "        \n",
    "        Важные показатели в рамках поставленной задачи — это выручка с заказа (`revenue_rub`) и количество билетов в заказе (`tickets_count`), поэтому в первую очередь проверьте данные в этих столбцах.\n",
    "        \n",
    "        Если обнаружите выбросы в поле `revenue_rub`, то отфильтруйте значения по 99 перцентилю.\n",
    "\n",
    "После предобработки проверьте, были ли отфильтрованы данные. Если были, то оцените, в каком объёме. Сформулируйте промежуточный вывод, зафиксировав основные действия и описания новых столбцов.\n",
    "\n",
    "---"
   ]
  },
  {
   "cell_type": "code",
   "execution_count": 7,
   "id": "e68c5629",
   "metadata": {
    "id": "e68c5629"
   },
   "outputs": [
    {
     "data": {
      "text/plain": [
       "days_since_prev          21933\n",
       "user_id                      0\n",
       "order_id                     0\n",
       "device_type_canonical        0\n",
       "order_ts                     0\n",
       "currency_code                0\n",
       "revenue                      0\n",
       "order_dt                     0\n",
       "tickets_count                0\n",
       "event_id                     0\n",
       "event_name                   0\n",
       "event_type_main              0\n",
       "service_name                 0\n",
       "region_name                  0\n",
       "city_name                    0\n",
       "revenue_rub                  0\n",
       "dtype: int64"
      ]
     },
     "metadata": {},
     "output_type": "display_data"
    },
    {
     "data": {
      "text/html": [
       "<div>\n",
       "<style scoped>\n",
       "    .dataframe tbody tr th:only-of-type {\n",
       "        vertical-align: middle;\n",
       "    }\n",
       "\n",
       "    .dataframe tbody tr th {\n",
       "        vertical-align: top;\n",
       "    }\n",
       "\n",
       "    .dataframe thead th {\n",
       "        text-align: right;\n",
       "    }\n",
       "</style>\n",
       "<table border=\"1\" class=\"dataframe\">\n",
       "  <thead>\n",
       "    <tr style=\"text-align: right;\">\n",
       "      <th></th>\n",
       "      <th>user_id</th>\n",
       "      <th>device_type_canonical</th>\n",
       "      <th>order_id</th>\n",
       "      <th>order_dt</th>\n",
       "      <th>order_ts</th>\n",
       "      <th>currency_code</th>\n",
       "      <th>revenue</th>\n",
       "      <th>tickets_count</th>\n",
       "      <th>days_since_prev</th>\n",
       "      <th>event_id</th>\n",
       "      <th>event_name</th>\n",
       "      <th>event_type_main</th>\n",
       "      <th>service_name</th>\n",
       "      <th>region_name</th>\n",
       "      <th>city_name</th>\n",
       "      <th>revenue_rub</th>\n",
       "    </tr>\n",
       "  </thead>\n",
       "  <tbody>\n",
       "    <tr>\n",
       "      <th>count</th>\n",
       "      <td>290611</td>\n",
       "      <td>290611</td>\n",
       "      <td>2.906110e+05</td>\n",
       "      <td>290611</td>\n",
       "      <td>290611</td>\n",
       "      <td>290611</td>\n",
       "      <td>290611.000000</td>\n",
       "      <td>290611.000000</td>\n",
       "      <td>268678.000000</td>\n",
       "      <td>290611.000000</td>\n",
       "      <td>290611</td>\n",
       "      <td>290611</td>\n",
       "      <td>290611</td>\n",
       "      <td>290611</td>\n",
       "      <td>290611</td>\n",
       "      <td>290611.000000</td>\n",
       "    </tr>\n",
       "    <tr>\n",
       "      <th>unique</th>\n",
       "      <td>21933</td>\n",
       "      <td>2</td>\n",
       "      <td>NaN</td>\n",
       "      <td>NaN</td>\n",
       "      <td>NaN</td>\n",
       "      <td>2</td>\n",
       "      <td>NaN</td>\n",
       "      <td>NaN</td>\n",
       "      <td>NaN</td>\n",
       "      <td>NaN</td>\n",
       "      <td>15248</td>\n",
       "      <td>7</td>\n",
       "      <td>36</td>\n",
       "      <td>81</td>\n",
       "      <td>352</td>\n",
       "      <td>NaN</td>\n",
       "    </tr>\n",
       "    <tr>\n",
       "      <th>top</th>\n",
       "      <td>0beb8fc0c0a9ce1</td>\n",
       "      <td>mobile</td>\n",
       "      <td>NaN</td>\n",
       "      <td>NaN</td>\n",
       "      <td>NaN</td>\n",
       "      <td>rub</td>\n",
       "      <td>NaN</td>\n",
       "      <td>NaN</td>\n",
       "      <td>NaN</td>\n",
       "      <td>NaN</td>\n",
       "      <td>9cc55c15-4375-4129-9979-3129688ba1b4</td>\n",
       "      <td>концерты</td>\n",
       "      <td>Билеты без проблем</td>\n",
       "      <td>Каменевский регион</td>\n",
       "      <td>Глиногорск</td>\n",
       "      <td>NaN</td>\n",
       "    </tr>\n",
       "    <tr>\n",
       "      <th>freq</th>\n",
       "      <td>10251</td>\n",
       "      <td>232490</td>\n",
       "      <td>NaN</td>\n",
       "      <td>NaN</td>\n",
       "      <td>NaN</td>\n",
       "      <td>285542</td>\n",
       "      <td>NaN</td>\n",
       "      <td>NaN</td>\n",
       "      <td>NaN</td>\n",
       "      <td>NaN</td>\n",
       "      <td>3953</td>\n",
       "      <td>115276</td>\n",
       "      <td>63519</td>\n",
       "      <td>91058</td>\n",
       "      <td>89446</td>\n",
       "      <td>NaN</td>\n",
       "    </tr>\n",
       "    <tr>\n",
       "      <th>mean</th>\n",
       "      <td>NaN</td>\n",
       "      <td>NaN</td>\n",
       "      <td>4.326225e+06</td>\n",
       "      <td>2024-09-01 22:36:38.741272576</td>\n",
       "      <td>2024-09-02 13:31:19.397730816</td>\n",
       "      <td>NaN</td>\n",
       "      <td>625.584360</td>\n",
       "      <td>2.754311</td>\n",
       "      <td>3.222381</td>\n",
       "      <td>438019.834992</td>\n",
       "      <td>NaN</td>\n",
       "      <td>NaN</td>\n",
       "      <td>NaN</td>\n",
       "      <td>NaN</td>\n",
       "      <td>NaN</td>\n",
       "      <td>625.584360</td>\n",
       "    </tr>\n",
       "    <tr>\n",
       "      <th>min</th>\n",
       "      <td>NaN</td>\n",
       "      <td>NaN</td>\n",
       "      <td>1.000000e+00</td>\n",
       "      <td>2024-06-01 00:00:00</td>\n",
       "      <td>2024-06-01 00:00:42</td>\n",
       "      <td>NaN</td>\n",
       "      <td>-90.760000</td>\n",
       "      <td>1.000000</td>\n",
       "      <td>0.000000</td>\n",
       "      <td>4436.000000</td>\n",
       "      <td>NaN</td>\n",
       "      <td>NaN</td>\n",
       "      <td>NaN</td>\n",
       "      <td>NaN</td>\n",
       "      <td>NaN</td>\n",
       "      <td>-90.760000</td>\n",
       "    </tr>\n",
       "    <tr>\n",
       "      <th>25%</th>\n",
       "      <td>NaN</td>\n",
       "      <td>NaN</td>\n",
       "      <td>2.163618e+06</td>\n",
       "      <td>2024-07-30 00:00:00</td>\n",
       "      <td>2024-07-30 11:53:37.500000</td>\n",
       "      <td>NaN</td>\n",
       "      <td>116.850000</td>\n",
       "      <td>2.000000</td>\n",
       "      <td>0.000000</td>\n",
       "      <td>361772.000000</td>\n",
       "      <td>NaN</td>\n",
       "      <td>NaN</td>\n",
       "      <td>NaN</td>\n",
       "      <td>NaN</td>\n",
       "      <td>NaN</td>\n",
       "      <td>116.850000</td>\n",
       "    </tr>\n",
       "    <tr>\n",
       "      <th>50%</th>\n",
       "      <td>NaN</td>\n",
       "      <td>NaN</td>\n",
       "      <td>4.326366e+06</td>\n",
       "      <td>2024-09-12 00:00:00</td>\n",
       "      <td>2024-09-12 14:02:10</td>\n",
       "      <td>NaN</td>\n",
       "      <td>356.010000</td>\n",
       "      <td>3.000000</td>\n",
       "      <td>0.000000</td>\n",
       "      <td>498275.000000</td>\n",
       "      <td>NaN</td>\n",
       "      <td>NaN</td>\n",
       "      <td>NaN</td>\n",
       "      <td>NaN</td>\n",
       "      <td>NaN</td>\n",
       "      <td>356.010000</td>\n",
       "    </tr>\n",
       "    <tr>\n",
       "      <th>75%</th>\n",
       "      <td>NaN</td>\n",
       "      <td>NaN</td>\n",
       "      <td>6.488330e+06</td>\n",
       "      <td>2024-10-09 00:00:00</td>\n",
       "      <td>2024-10-09 15:57:55.500000</td>\n",
       "      <td>NaN</td>\n",
       "      <td>810.130000</td>\n",
       "      <td>4.000000</td>\n",
       "      <td>1.000000</td>\n",
       "      <td>546287.000000</td>\n",
       "      <td>NaN</td>\n",
       "      <td>NaN</td>\n",
       "      <td>NaN</td>\n",
       "      <td>NaN</td>\n",
       "      <td>NaN</td>\n",
       "      <td>810.130000</td>\n",
       "    </tr>\n",
       "    <tr>\n",
       "      <th>max</th>\n",
       "      <td>NaN</td>\n",
       "      <td>NaN</td>\n",
       "      <td>8.653108e+06</td>\n",
       "      <td>2024-10-31 00:00:00</td>\n",
       "      <td>2024-10-31 23:59:54</td>\n",
       "      <td>NaN</td>\n",
       "      <td>81174.540000</td>\n",
       "      <td>57.000000</td>\n",
       "      <td>148.000000</td>\n",
       "      <td>592325.000000</td>\n",
       "      <td>NaN</td>\n",
       "      <td>NaN</td>\n",
       "      <td>NaN</td>\n",
       "      <td>NaN</td>\n",
       "      <td>NaN</td>\n",
       "      <td>81174.540000</td>\n",
       "    </tr>\n",
       "    <tr>\n",
       "      <th>std</th>\n",
       "      <td>NaN</td>\n",
       "      <td>NaN</td>\n",
       "      <td>2.497551e+06</td>\n",
       "      <td>NaN</td>\n",
       "      <td>NaN</td>\n",
       "      <td>NaN</td>\n",
       "      <td>1227.693064</td>\n",
       "      <td>1.170620</td>\n",
       "      <td>11.350509</td>\n",
       "      <td>147423.078841</td>\n",
       "      <td>NaN</td>\n",
       "      <td>NaN</td>\n",
       "      <td>NaN</td>\n",
       "      <td>NaN</td>\n",
       "      <td>NaN</td>\n",
       "      <td>1227.693064</td>\n",
       "    </tr>\n",
       "  </tbody>\n",
       "</table>\n",
       "</div>"
      ],
      "text/plain": [
       "                user_id device_type_canonical      order_id                       order_dt                       order_ts currency_code  \\\n",
       "count            290611                290611  2.906110e+05                         290611                         290611        290611   \n",
       "unique            21933                     2           NaN                            NaN                            NaN             2   \n",
       "top     0beb8fc0c0a9ce1                mobile           NaN                            NaN                            NaN           rub   \n",
       "freq              10251                232490           NaN                            NaN                            NaN        285542   \n",
       "mean                NaN                   NaN  4.326225e+06  2024-09-01 22:36:38.741272576  2024-09-02 13:31:19.397730816           NaN   \n",
       "min                 NaN                   NaN  1.000000e+00            2024-06-01 00:00:00            2024-06-01 00:00:42           NaN   \n",
       "25%                 NaN                   NaN  2.163618e+06            2024-07-30 00:00:00     2024-07-30 11:53:37.500000           NaN   \n",
       "50%                 NaN                   NaN  4.326366e+06            2024-09-12 00:00:00            2024-09-12 14:02:10           NaN   \n",
       "75%                 NaN                   NaN  6.488330e+06            2024-10-09 00:00:00     2024-10-09 15:57:55.500000           NaN   \n",
       "max                 NaN                   NaN  8.653108e+06            2024-10-31 00:00:00            2024-10-31 23:59:54           NaN   \n",
       "std                 NaN                   NaN  2.497551e+06                            NaN                            NaN           NaN   \n",
       "\n",
       "              revenue  tickets_count  days_since_prev       event_id                            event_name event_type_main  \\\n",
       "count   290611.000000  290611.000000    268678.000000  290611.000000                                290611          290611   \n",
       "unique            NaN            NaN              NaN            NaN                                 15248               7   \n",
       "top               NaN            NaN              NaN            NaN  9cc55c15-4375-4129-9979-3129688ba1b4        концерты   \n",
       "freq              NaN            NaN              NaN            NaN                                  3953          115276   \n",
       "mean       625.584360       2.754311         3.222381  438019.834992                                   NaN             NaN   \n",
       "min        -90.760000       1.000000         0.000000    4436.000000                                   NaN             NaN   \n",
       "25%        116.850000       2.000000         0.000000  361772.000000                                   NaN             NaN   \n",
       "50%        356.010000       3.000000         0.000000  498275.000000                                   NaN             NaN   \n",
       "75%        810.130000       4.000000         1.000000  546287.000000                                   NaN             NaN   \n",
       "max      81174.540000      57.000000       148.000000  592325.000000                                   NaN             NaN   \n",
       "std       1227.693064       1.170620        11.350509  147423.078841                                   NaN             NaN   \n",
       "\n",
       "              service_name         region_name   city_name    revenue_rub  \n",
       "count               290611              290611      290611  290611.000000  \n",
       "unique                  36                  81         352            NaN  \n",
       "top     Билеты без проблем  Каменевский регион  Глиногорск            NaN  \n",
       "freq                 63519               91058       89446            NaN  \n",
       "mean                   NaN                 NaN         NaN     625.584360  \n",
       "min                    NaN                 NaN         NaN     -90.760000  \n",
       "25%                    NaN                 NaN         NaN     116.850000  \n",
       "50%                    NaN                 NaN         NaN     356.010000  \n",
       "75%                    NaN                 NaN         NaN     810.130000  \n",
       "max                    NaN                 NaN         NaN   81174.540000  \n",
       "std                    NaN                 NaN         NaN    1227.693064  "
      ]
     },
     "metadata": {},
     "output_type": "display_data"
    },
    {
     "name": "stdout",
     "output_type": "stream",
     "text": [
      "Отфильтровано по revenue_rub > 4003.13 : 2907 строк\n"
     ]
    }
   ],
   "source": [
    "na = df.isna().sum().sort_values(ascending=False)\n",
    "display(na)\n",
    "\n",
    "df[\"tickets_count\"] = pd.to_numeric(df[\"tickets_count\"], errors=\"coerce\")\n",
    "\n",
    "for col in [\"currency_code\",\"device_type_canonical\",\"region_name\",\"event_type_main\"]:\n",
    "    df[col] = df[col].astype(\"category\")\n",
    "\n",
    "display(df.describe(include=\"all\"))\n",
    "\n",
    "p99 = df[\"revenue_rub\"].quantile(0.99)\n",
    "filtered = df[df[\"revenue_rub\"] <= p99].copy()\n",
    "print(\"Отфильтровано по revenue_rub >\", round(p99,2), \":\", len(df) - len(filtered), \"строк\")\n",
    "df_clean = filtered"
   ]
  },
  {
   "cell_type": "markdown",
   "id": "4257245f-1aaa-4785-832a-397ea3ca05b3",
   "metadata": {},
   "source": [
    "Пропуски присутствуют только в интервалах между заказами (логично).\n",
    "\n",
    "Описательная статистика подтверждает корректный диапазон дат и величин.\n",
    "\n",
    "Порог по выручке сработал: удалены верхние аномальные значения, что снижает влияние выбросов в последующем анализе.\n",
    "\n",
    "Выбросы по выручке отфильтрованы по порогу revenue_rub > 4003.13 (удалено 2907 строк)."
   ]
  },
  {
   "cell_type": "markdown",
   "id": "621c1db9",
   "metadata": {
    "id": "621c1db9"
   },
   "source": [
    "---\n",
    "\n",
    "### 3. Создание профиля пользователя\n",
    "\n",
    "В будущем отдел маркетинга планирует создать модель для прогнозирования возврата пользователей. Поэтому сейчас они просят вас построить агрегированные признаки, описывающие поведение и профиль каждого пользователя.\n",
    "\n",
    "---\n",
    "\n",
    "**Задача 3.1.** Постройте профиль пользователя — для каждого пользователя найдите:\n",
    "\n",
    "- дату первого и последнего заказа;\n",
    "- устройство, с которого был сделан первый заказ;\n",
    "- регион, в котором был сделан первый заказ;\n",
    "- билетного партнёра, к которому обращались при первом заказе;\n",
    "- жанр первого посещённого мероприятия (используйте поле `event_type_main`);\n",
    "- общее количество заказов;\n",
    "- средняя выручка с одного заказа в рублях;\n",
    "- среднее количество билетов в заказе;\n",
    "- среднее время между заказами.\n",
    "\n",
    "После этого добавьте два бинарных признака:\n",
    "\n",
    "- `is_two` — совершил ли пользователь 2 и более заказа;\n",
    "- `is_five` — совершил ли пользователь 5 и более заказов.\n",
    "\n",
    "**Рекомендация:** перед тем как строить профиль, отсортируйте данные по времени совершения заказа.\n",
    "\n",
    "---\n"
   ]
  },
  {
   "cell_type": "code",
   "execution_count": 8,
   "id": "d351239c",
   "metadata": {
    "id": "d351239c"
   },
   "outputs": [
    {
     "data": {
      "text/html": [
       "<div>\n",
       "<style scoped>\n",
       "    .dataframe tbody tr th:only-of-type {\n",
       "        vertical-align: middle;\n",
       "    }\n",
       "\n",
       "    .dataframe tbody tr th {\n",
       "        vertical-align: top;\n",
       "    }\n",
       "\n",
       "    .dataframe thead th {\n",
       "        text-align: right;\n",
       "    }\n",
       "</style>\n",
       "<table border=\"1\" class=\"dataframe\">\n",
       "  <thead>\n",
       "    <tr style=\"text-align: right;\">\n",
       "      <th></th>\n",
       "      <th>user_id</th>\n",
       "      <th>first_order_dt</th>\n",
       "      <th>last_order_dt</th>\n",
       "      <th>first_device</th>\n",
       "      <th>first_region</th>\n",
       "      <th>first_event_type</th>\n",
       "      <th>total_orders</th>\n",
       "      <th>avg_revenue_rub</th>\n",
       "      <th>avg_tickets_count</th>\n",
       "      <th>avg_days_between</th>\n",
       "      <th>is_two</th>\n",
       "      <th>is_five</th>\n",
       "    </tr>\n",
       "  </thead>\n",
       "  <tbody>\n",
       "    <tr>\n",
       "      <th>0</th>\n",
       "      <td>0002849b70a3ce2</td>\n",
       "      <td>2024-08-20 16:08:03</td>\n",
       "      <td>2024-08-20 16:08:03</td>\n",
       "      <td>mobile</td>\n",
       "      <td>Каменевский регион</td>\n",
       "      <td>театр</td>\n",
       "      <td>1</td>\n",
       "      <td>1521.940000</td>\n",
       "      <td>4.000000</td>\n",
       "      <td>NaN</td>\n",
       "      <td>0</td>\n",
       "      <td>0</td>\n",
       "    </tr>\n",
       "    <tr>\n",
       "      <th>1</th>\n",
       "      <td>0005ca5e93f2cf4</td>\n",
       "      <td>2024-07-23 18:36:24</td>\n",
       "      <td>2024-10-06 13:56:02</td>\n",
       "      <td>mobile</td>\n",
       "      <td>Каменевский регион</td>\n",
       "      <td>выставки</td>\n",
       "      <td>2</td>\n",
       "      <td>774.010000</td>\n",
       "      <td>3.000000</td>\n",
       "      <td>75.0</td>\n",
       "      <td>1</td>\n",
       "      <td>0</td>\n",
       "    </tr>\n",
       "    <tr>\n",
       "      <th>2</th>\n",
       "      <td>000898990054619</td>\n",
       "      <td>2024-07-13 19:40:48</td>\n",
       "      <td>2024-10-23 15:12:00</td>\n",
       "      <td>mobile</td>\n",
       "      <td>Североярская область</td>\n",
       "      <td>другое</td>\n",
       "      <td>3</td>\n",
       "      <td>767.213333</td>\n",
       "      <td>2.666667</td>\n",
       "      <td>51.0</td>\n",
       "      <td>1</td>\n",
       "      <td>0</td>\n",
       "    </tr>\n",
       "    <tr>\n",
       "      <th>3</th>\n",
       "      <td>00096d1f542ab2b</td>\n",
       "      <td>2024-08-15 16:48:48</td>\n",
       "      <td>2024-08-15 16:48:48</td>\n",
       "      <td>desktop</td>\n",
       "      <td>Каменевский регион</td>\n",
       "      <td>театр</td>\n",
       "      <td>1</td>\n",
       "      <td>917.830000</td>\n",
       "      <td>4.000000</td>\n",
       "      <td>NaN</td>\n",
       "      <td>0</td>\n",
       "      <td>0</td>\n",
       "    </tr>\n",
       "    <tr>\n",
       "      <th>4</th>\n",
       "      <td>000a55a418c128c</td>\n",
       "      <td>2024-09-29 19:39:12</td>\n",
       "      <td>2024-10-15 10:29:04</td>\n",
       "      <td>mobile</td>\n",
       "      <td>Поленовский край</td>\n",
       "      <td>театр</td>\n",
       "      <td>2</td>\n",
       "      <td>61.310000</td>\n",
       "      <td>1.500000</td>\n",
       "      <td>16.0</td>\n",
       "      <td>1</td>\n",
       "      <td>0</td>\n",
       "    </tr>\n",
       "  </tbody>\n",
       "</table>\n",
       "</div>"
      ],
      "text/plain": [
       "           user_id      first_order_dt       last_order_dt first_device          first_region first_event_type  total_orders  \\\n",
       "0  0002849b70a3ce2 2024-08-20 16:08:03 2024-08-20 16:08:03       mobile    Каменевский регион            театр             1   \n",
       "1  0005ca5e93f2cf4 2024-07-23 18:36:24 2024-10-06 13:56:02       mobile    Каменевский регион         выставки             2   \n",
       "2  000898990054619 2024-07-13 19:40:48 2024-10-23 15:12:00       mobile  Североярская область           другое             3   \n",
       "3  00096d1f542ab2b 2024-08-15 16:48:48 2024-08-15 16:48:48      desktop    Каменевский регион            театр             1   \n",
       "4  000a55a418c128c 2024-09-29 19:39:12 2024-10-15 10:29:04       mobile      Поленовский край            театр             2   \n",
       "\n",
       "   avg_revenue_rub  avg_tickets_count  avg_days_between  is_two  is_five  \n",
       "0      1521.940000           4.000000               NaN       0        0  \n",
       "1       774.010000           3.000000              75.0       1        0  \n",
       "2       767.213333           2.666667              51.0       1        0  \n",
       "3       917.830000           4.000000               NaN       0        0  \n",
       "4        61.310000           1.500000              16.0       1        0  "
      ]
     },
     "metadata": {},
     "output_type": "display_data"
    }
   ],
   "source": [
    "df_clean = df_clean.sort_values(\"order_ts\")\n",
    "df_clean[\"prev_order_dt\"] = df_clean.groupby(\"user_id\")[\"order_ts\"].shift(1)\n",
    "\n",
    "first_orders = (df_clean\n",
    "    .sort_values([\"user_id\",\"order_ts\"])\n",
    "    .groupby(\"user_id\")\n",
    "    .agg(\n",
    "        first_order_dt=(\"order_ts\",\"first\"),\n",
    "        last_order_dt=(\"order_ts\",\"last\"),\n",
    "        first_device=(\"device_type_canonical\",\"first\"),\n",
    "        first_region=(\"region_name\",\"first\"),\n",
    "        first_event_type=(\"event_type_main\",\"first\")\n",
    "    )\n",
    ")\n",
    "\n",
    "user_aggs = (df_clean.groupby(\"user_id\")\n",
    "             .agg(\n",
    "                 total_orders=(\"order_id\",\"nunique\"),\n",
    "                 avg_revenue_rub=(\"revenue_rub\",\"mean\"),\n",
    "                 avg_tickets_count=(\"tickets_count\",\"mean\"),\n",
    "                 avg_days_between=(\"days_since_prev\",\"mean\")\n",
    "             ))\n",
    "\n",
    "profile = first_orders.join(user_aggs, how=\"left\").reset_index()\n",
    "profile[\"is_two\"]  = (profile[\"total_orders\"] >= 2).astype(int)\n",
    "profile[\"is_five\"] = (profile[\"total_orders\"] >= 5).astype(int)\n",
    "display(profile.head())"
   ]
  },
  {
   "cell_type": "markdown",
   "id": "d5ddb112-ce06-4bb9-a6ee-8372107f094e",
   "metadata": {
    "id": "e374ef11"
   },
   "source": [
    "Профиль сформирован для каждого пользователя: рассчитаны total_orders, avg_revenue_rub, avg_tickets_count, avg_days_between, а также индикаторы is_two (2+ заказов) и is_five (5+)."
   ]
  },
  {
   "cell_type": "markdown",
   "id": "1LGZVL7FhrmD",
   "metadata": {
    "id": "1LGZVL7FhrmD"
   },
   "source": [
    "---\n",
    "\n",
    "**Задача 3.2.** Прежде чем проводить исследовательский анализ данных и делать выводы, важно понять, с какими данными вы работаете: насколько они репрезентативны и нет ли в них аномалий.\n",
    "\n",
    "Используя данные о профилях пользователей, рассчитайте:\n",
    "\n",
    "- общее число пользователей в выборке;\n",
    "- среднюю выручку с одного заказа;\n",
    "- долю пользователей, совершивших 2 и более заказа;\n",
    "- долю пользователей, совершивших 5 и более заказов.\n",
    "\n",
    "Также изучите статистические показатели:\n",
    "\n",
    "- по общему числу заказов;\n",
    "- по среднему числу билетов в заказе;\n",
    "- по среднему количеству дней между покупками.\n",
    "\n",
    "По результатам оцените данные: достаточно ли их по объёму, есть ли аномальные значения в данных о количестве заказов и среднем количестве билетов?\n",
    "\n",
    "Если вы найдёте аномальные значения, опишите их и примите обоснованное решение о том, как с ними поступить:\n",
    "\n",
    "- Оставить и учитывать их при анализе?\n",
    "- Отфильтровать данные по какому-то значению, например, по 95-му или 99-му перцентилю?\n",
    "\n",
    "Если вы проведёте фильтрацию, то вычислите объём отфильтрованных данных и выведите статистические показатели по обновлённому датасету."
   ]
  },
  {
   "cell_type": "code",
   "execution_count": 9,
   "id": "557be834",
   "metadata": {
    "id": "557be834"
   },
   "outputs": [
    {
     "name": "stdout",
     "output_type": "stream",
     "text": [
      "Число пользователей: 21769\n",
      "Средняя выручка с заказа (руб): 538.08\n",
      "Доля 2+ заказов: 0.618\n",
      "Доля 5+ заказов: 0.291\n",
      "\n"
     ]
    },
    {
     "data": {
      "text/plain": [
       "count    21769.000000\n",
       "mean        13.216225\n",
       "std        122.135348\n",
       "min          1.000000\n",
       "25%          1.000000\n",
       "50%          2.000000\n",
       "75%          5.000000\n",
       "max      10207.000000\n",
       "Name: total_orders, dtype: float64"
      ]
     },
     "metadata": {},
     "output_type": "display_data"
    },
    {
     "name": "stdout",
     "output_type": "stream",
     "text": [
      "\n"
     ]
    },
    {
     "data": {
      "text/plain": [
       "count    21769.000000\n",
       "mean         2.748374\n",
       "std          0.921696\n",
       "min          1.000000\n",
       "25%          2.000000\n",
       "50%          2.750000\n",
       "75%          3.111111\n",
       "max         11.000000\n",
       "Name: avg_tickets_count, dtype: float64"
      ]
     },
     "metadata": {},
     "output_type": "display_data"
    },
    {
     "name": "stdout",
     "output_type": "stream",
     "text": [
      "\n"
     ]
    },
    {
     "data": {
      "text/plain": [
       "count    13488.000000\n",
       "mean        15.934672\n",
       "std         22.392435\n",
       "min          0.000000\n",
       "25%          1.000000\n",
       "50%          8.111111\n",
       "75%         20.600000\n",
       "max        148.000000\n",
       "Name: avg_days_between, dtype: float64"
      ]
     },
     "metadata": {},
     "output_type": "display_data"
    }
   ],
   "source": [
    "n_users = profile[\"user_id\"].nunique()\n",
    "avg_rev_per_order = df_clean[\"revenue_rub\"].mean()\n",
    "share_two  = profile[\"is_two\"].mean()\n",
    "share_five = profile[\"is_five\"].mean()\n",
    "\n",
    "print(\"Число пользователей:\", n_users)\n",
    "print(\"Средняя выручка с заказа (руб):\", round(avg_rev_per_order,2))\n",
    "print(\"Доля 2+ заказов:\", round(share_two,3))\n",
    "print(\"Доля 5+ заказов:\", round(share_five,3))\n",
    "print()\n",
    "display(profile[\"total_orders\"].describe())\n",
    "print()\n",
    "display(profile[\"avg_tickets_count\"].describe())\n",
    "print()\n",
    "display(profile[\"avg_days_between\"].describe())"
   ]
  },
  {
   "cell_type": "markdown",
   "id": "e7c8f12e-da27-499c-ac97-89f335d525f1",
   "metadata": {
    "id": "b1eee99f"
   },
   "source": [
    "Репрезентативность и базовые метрики по профилям пользователей:\n",
    "- Число пользователей: 21 769\n",
    "- Средняя выручка с заказа: 538,08 ₽\n",
    "- Доля пользователей с 2+ заказами: 0,618\n",
    "- Доля пользователей с 5+ заказами: 0,291\n",
    "\n",
    "Эти значения дают достаточный объём и вариативность для анализа: почти две трети пользователей совершают повторные покупки, что позволяет корректно сравнивать сегменты \"1 заказ\" vs \"2+\" и внутри повторяющих (\"2-4\" vs \"5+\")."
   ]
  },
  {
   "cell_type": "markdown",
   "id": "f76d2c8d-d064-4402-ae3b-5f278a416954",
   "metadata": {},
   "source": [
    "Статистика по ключевым признакам и оценка аномалий\n",
    "1) Общее число заказов:\n",
    "count=21769, mean=13,22, std=122,14, min=1, 25%=1, 50%=2, 75%=5, max=10 207.\n",
    "\n",
    "Вывод: распределение крайне тяжёлое и правостороннее; максимум 10 207 на фоне 75%=5 — явный выброс/аномалия (возможны: агрегированный корпоративный аккаунт, бот/скрейпер, ошибочная агрегация). Среднее и стандартное отклонение существенно «задраны» хвостом и не отражают «типичного» пользователя.\n",
    "\n",
    "Решение: отрезать хвост (Отсечка по перцентилю или фильтрация)\n",
    "\n",
    "2) Среднее число билетов в заказе:\n",
    "count=21769, mean=2,75, std=0,92, min=1, 25%=2, 50%=2,75, 75%=3,11, max=11.\n",
    "\n",
    "Вывод: распределение умеренно правостороннее, максимум 11 билетов - редкие, но правдоподобные групповые покупки.\n",
    "\n",
    "Решение: оставить как есть\n",
    "\n",
    "3) Среднее число дней между покупками:\n",
    "count=13 488 (только для пользователей с 2+ заказами), mean=15,93, std=22,39, min=0, 25%=1, 50%=8,11, 75%=20,6, max=148.\n",
    "\n",
    "Вывод: значения реалистичны: 0 дней — покупки в один день; верхние значения отражают редкие возвраты через месяцы.\n",
    "\n",
    "Решение: фильтрация не требуется"
   ]
  },
  {
   "cell_type": "code",
   "execution_count": 10,
   "id": "6117aa2d-6db4-4f0e-8aca-b5468ba5c303",
   "metadata": {},
   "outputs": [
    {
     "name": "stdout",
     "output_type": "stream",
     "text": [
      "99-й перцентиль по total_orders: 323.47999999999956\n",
      "Удалено пользователей: 109 (0.50%)\n",
      "\n",
      "После фильтрации по 99-му перцентилю:\n",
      "Число пользователей: 21660\n",
      "Средняя выручка с заказа (руб): 538.08\n",
      "Доля 2+ заказов: 0.616\n",
      "Доля 5+ заказов: 0.287\n",
      "\n"
     ]
    },
    {
     "data": {
      "text/plain": [
       "count    21660.000000\n",
       "mean         7.575762\n",
       "std         21.113179\n",
       "min          1.000000\n",
       "25%          1.000000\n",
       "50%          2.000000\n",
       "75%          5.000000\n",
       "max        323.000000\n",
       "Name: total_orders, dtype: float64"
      ]
     },
     "metadata": {},
     "output_type": "display_data"
    }
   ],
   "source": [
    "# Определяем порог по 99-му перцентилю\n",
    "p99 = profile[\"total_orders\"].quantile(0.995)\n",
    "print(\"99-й перцентиль по total_orders:\", p99)\n",
    "\n",
    "# Фильтруем пользователей, у которых число заказов <= p99.5\n",
    "profile_filtered = profile[profile[\"total_orders\"] <= p99]\n",
    "\n",
    "# Проверим, сколько пользователей осталось и сколько удалили\n",
    "removed = profile.shape[0] - profile_filtered.shape[0]\n",
    "print(f\"Удалено пользователей: {removed} ({removed / profile.shape[0]:.2%})\")\n",
    "\n",
    "# Пересчёт ключевых метрик\n",
    "n_users = profile_filtered[\"user_id\"].nunique()\n",
    "avg_rev_per_order = df_clean[\"revenue_rub\"].mean()\n",
    "share_two  = profile_filtered[\"is_two\"].mean()\n",
    "share_five = profile_filtered[\"is_five\"].mean()\n",
    "\n",
    "print()\n",
    "print(\"После фильтрации по 99-му перцентилю:\")\n",
    "print(\"Число пользователей:\", n_users)\n",
    "print(\"Средняя выручка с заказа (руб):\", round(avg_rev_per_order, 2))\n",
    "print(\"Доля 2+ заказов:\", round(share_two, 3))\n",
    "print(\"Доля 5+ заказов:\", round(share_five, 3))\n",
    "print()\n",
    "\n",
    "# Новые описательные статистики\n",
    "display(profile_filtered[\"total_orders\"].describe())\n"
   ]
  },
  {
   "cell_type": "markdown",
   "id": "6yhiv3t1mPNU",
   "metadata": {
    "id": "6yhiv3t1mPNU"
   },
   "source": [
    "---\n",
    "\n",
    "### 4. Исследовательский анализ данных\n",
    "\n",
    "Следующий этап — исследование признаков, влияющих на возврат пользователей, то есть на совершение повторного заказа. Для этого используйте профили пользователей."
   ]
  },
  {
   "cell_type": "markdown",
   "id": "6fe731c3",
   "metadata": {
    "id": "6fe731c3"
   },
   "source": [
    "\n",
    "\n",
    "#### 4.1. Исследование признаков первого заказа и их связи с возвращением на платформу\n",
    "\n",
    "Исследуйте признаки, описывающие первый заказ пользователя, и выясните, влияют ли они на вероятность возвращения пользователя.\n",
    "\n",
    "---\n",
    "\n",
    "**Задача 4.1.1.** Изучите распределение пользователей по признакам.\n",
    "\n",
    "- Сгруппируйте пользователей:\n",
    "    - по типу их первого мероприятия;\n",
    "    - по типу устройства, с которого совершена первая покупка;\n",
    "    - по региону проведения мероприятия из первого заказа;\n",
    "    - по билетному оператору, продавшему билеты на первый заказ.\n",
    "- Подсчитайте общее количество пользователей в каждом сегменте и их долю в разрезе каждого признака. Сегмент — это группа пользователей, объединённых определённым признаком, то есть объединённые принадлежностью к категории. Например, все клиенты, сделавшие первый заказ с мобильного телефона, — это сегмент.\n",
    "- Ответьте на вопрос: равномерно ли распределены пользователи по сегментам или есть выраженные «точки входа» — сегменты с наибольшим числом пользователей?\n",
    "\n",
    "---\n"
   ]
  },
  {
   "cell_type": "code",
   "execution_count": 11,
   "id": "a8228a03",
   "metadata": {
    "id": "a8228a03"
   },
   "outputs": [
    {
     "name": "stdout",
     "output_type": "stream",
     "text": [
      "== first_event_type ==\n"
     ]
    },
    {
     "data": {
      "text/html": [
       "<div>\n",
       "<style scoped>\n",
       "    .dataframe tbody tr th:only-of-type {\n",
       "        vertical-align: middle;\n",
       "    }\n",
       "\n",
       "    .dataframe tbody tr th {\n",
       "        vertical-align: top;\n",
       "    }\n",
       "\n",
       "    .dataframe thead th {\n",
       "        text-align: right;\n",
       "    }\n",
       "</style>\n",
       "<table border=\"1\" class=\"dataframe\">\n",
       "  <thead>\n",
       "    <tr style=\"text-align: right;\">\n",
       "      <th></th>\n",
       "      <th>users</th>\n",
       "      <th>share</th>\n",
       "    </tr>\n",
       "    <tr>\n",
       "      <th>first_event_type</th>\n",
       "      <th></th>\n",
       "      <th></th>\n",
       "    </tr>\n",
       "  </thead>\n",
       "  <tbody>\n",
       "    <tr>\n",
       "      <th>концерты</th>\n",
       "      <td>9451</td>\n",
       "      <td>0.434149</td>\n",
       "    </tr>\n",
       "    <tr>\n",
       "      <th>другое</th>\n",
       "      <td>5546</td>\n",
       "      <td>0.254766</td>\n",
       "    </tr>\n",
       "    <tr>\n",
       "      <th>театр</th>\n",
       "      <td>4328</td>\n",
       "      <td>0.198815</td>\n",
       "    </tr>\n",
       "    <tr>\n",
       "      <th>стендап</th>\n",
       "      <td>1126</td>\n",
       "      <td>0.051725</td>\n",
       "    </tr>\n",
       "    <tr>\n",
       "      <th>спорт</th>\n",
       "      <td>807</td>\n",
       "      <td>0.037071</td>\n",
       "    </tr>\n",
       "    <tr>\n",
       "      <th>выставки</th>\n",
       "      <td>416</td>\n",
       "      <td>0.019110</td>\n",
       "    </tr>\n",
       "    <tr>\n",
       "      <th>ёлки</th>\n",
       "      <td>95</td>\n",
       "      <td>0.004364</td>\n",
       "    </tr>\n",
       "  </tbody>\n",
       "</table>\n",
       "</div>"
      ],
      "text/plain": [
       "                  users     share\n",
       "first_event_type                 \n",
       "концерты           9451  0.434149\n",
       "другое             5546  0.254766\n",
       "театр              4328  0.198815\n",
       "стендап            1126  0.051725\n",
       "спорт               807  0.037071\n",
       "выставки            416  0.019110\n",
       "ёлки                 95  0.004364"
      ]
     },
     "metadata": {},
     "output_type": "display_data"
    },
    {
     "name": "stdout",
     "output_type": "stream",
     "text": [
      "== first_device ==\n"
     ]
    },
    {
     "data": {
      "text/html": [
       "<div>\n",
       "<style scoped>\n",
       "    .dataframe tbody tr th:only-of-type {\n",
       "        vertical-align: middle;\n",
       "    }\n",
       "\n",
       "    .dataframe tbody tr th {\n",
       "        vertical-align: top;\n",
       "    }\n",
       "\n",
       "    .dataframe thead th {\n",
       "        text-align: right;\n",
       "    }\n",
       "</style>\n",
       "<table border=\"1\" class=\"dataframe\">\n",
       "  <thead>\n",
       "    <tr style=\"text-align: right;\">\n",
       "      <th></th>\n",
       "      <th>users</th>\n",
       "      <th>share</th>\n",
       "    </tr>\n",
       "    <tr>\n",
       "      <th>first_device</th>\n",
       "      <th></th>\n",
       "      <th></th>\n",
       "    </tr>\n",
       "  </thead>\n",
       "  <tbody>\n",
       "    <tr>\n",
       "      <th>mobile</th>\n",
       "      <td>18056</td>\n",
       "      <td>0.829436</td>\n",
       "    </tr>\n",
       "    <tr>\n",
       "      <th>desktop</th>\n",
       "      <td>3713</td>\n",
       "      <td>0.170564</td>\n",
       "    </tr>\n",
       "  </tbody>\n",
       "</table>\n",
       "</div>"
      ],
      "text/plain": [
       "              users     share\n",
       "first_device                 \n",
       "mobile        18056  0.829436\n",
       "desktop        3713  0.170564"
      ]
     },
     "metadata": {},
     "output_type": "display_data"
    },
    {
     "name": "stdout",
     "output_type": "stream",
     "text": [
      "== first_region ==\n"
     ]
    },
    {
     "data": {
      "text/html": [
       "<div>\n",
       "<style scoped>\n",
       "    .dataframe tbody tr th:only-of-type {\n",
       "        vertical-align: middle;\n",
       "    }\n",
       "\n",
       "    .dataframe tbody tr th {\n",
       "        vertical-align: top;\n",
       "    }\n",
       "\n",
       "    .dataframe thead th {\n",
       "        text-align: right;\n",
       "    }\n",
       "</style>\n",
       "<table border=\"1\" class=\"dataframe\">\n",
       "  <thead>\n",
       "    <tr style=\"text-align: right;\">\n",
       "      <th></th>\n",
       "      <th>users</th>\n",
       "      <th>share</th>\n",
       "    </tr>\n",
       "    <tr>\n",
       "      <th>first_region</th>\n",
       "      <th></th>\n",
       "      <th></th>\n",
       "    </tr>\n",
       "  </thead>\n",
       "  <tbody>\n",
       "    <tr>\n",
       "      <th>Каменевский регион</th>\n",
       "      <td>7227</td>\n",
       "      <td>0.331986</td>\n",
       "    </tr>\n",
       "    <tr>\n",
       "      <th>Североярская область</th>\n",
       "      <td>3823</td>\n",
       "      <td>0.175617</td>\n",
       "    </tr>\n",
       "    <tr>\n",
       "      <th>Широковская область</th>\n",
       "      <td>1252</td>\n",
       "      <td>0.057513</td>\n",
       "    </tr>\n",
       "    <tr>\n",
       "      <th>Озернинский край</th>\n",
       "      <td>685</td>\n",
       "      <td>0.031467</td>\n",
       "    </tr>\n",
       "    <tr>\n",
       "      <th>Малиновоярский округ</th>\n",
       "      <td>545</td>\n",
       "      <td>0.025036</td>\n",
       "    </tr>\n",
       "    <tr>\n",
       "      <th>Травяная область</th>\n",
       "      <td>494</td>\n",
       "      <td>0.022693</td>\n",
       "    </tr>\n",
       "    <tr>\n",
       "      <th>Светополянский округ</th>\n",
       "      <td>475</td>\n",
       "      <td>0.021820</td>\n",
       "    </tr>\n",
       "    <tr>\n",
       "      <th>Речиновская область</th>\n",
       "      <td>447</td>\n",
       "      <td>0.020534</td>\n",
       "    </tr>\n",
       "    <tr>\n",
       "      <th>Яблоневская область</th>\n",
       "      <td>419</td>\n",
       "      <td>0.019248</td>\n",
       "    </tr>\n",
       "    <tr>\n",
       "      <th>Медовская область</th>\n",
       "      <td>379</td>\n",
       "      <td>0.017410</td>\n",
       "    </tr>\n",
       "    <tr>\n",
       "      <th>Лугоградская область</th>\n",
       "      <td>361</td>\n",
       "      <td>0.016583</td>\n",
       "    </tr>\n",
       "    <tr>\n",
       "      <th>Шанырский регион</th>\n",
       "      <td>346</td>\n",
       "      <td>0.015894</td>\n",
       "    </tr>\n",
       "    <tr>\n",
       "      <th>Серебринская область</th>\n",
       "      <td>337</td>\n",
       "      <td>0.015481</td>\n",
       "    </tr>\n",
       "    <tr>\n",
       "      <th>Тепляковская область</th>\n",
       "      <td>327</td>\n",
       "      <td>0.015021</td>\n",
       "    </tr>\n",
       "    <tr>\n",
       "      <th>Солнечнореченская область</th>\n",
       "      <td>297</td>\n",
       "      <td>0.013643</td>\n",
       "    </tr>\n",
       "  </tbody>\n",
       "</table>\n",
       "</div>"
      ],
      "text/plain": [
       "                           users     share\n",
       "first_region                              \n",
       "Каменевский регион          7227  0.331986\n",
       "Североярская область        3823  0.175617\n",
       "Широковская область         1252  0.057513\n",
       "Озернинский край             685  0.031467\n",
       "Малиновоярский округ         545  0.025036\n",
       "Травяная область             494  0.022693\n",
       "Светополянский округ         475  0.021820\n",
       "Речиновская область          447  0.020534\n",
       "Яблоневская область          419  0.019248\n",
       "Медовская область            379  0.017410\n",
       "Лугоградская область         361  0.016583\n",
       "Шанырский регион             346  0.015894\n",
       "Серебринская область         337  0.015481\n",
       "Тепляковская область         327  0.015021\n",
       "Солнечнореченская область    297  0.013643"
      ]
     },
     "metadata": {},
     "output_type": "display_data"
    }
   ],
   "source": [
    "def segment_share(df, col):\n",
    "    s = (df.groupby(col,observed=True)[\"user_id\"].nunique().sort_values(ascending=False).rename(\"users\"))\n",
    "    out = s.to_frame()\n",
    "    out[\"share\"] = out[\"users\"] / out[\"users\"].sum()\n",
    "    return out\n",
    "\n",
    "for col in [\"first_event_type\",\"first_device\",\"first_region\"]:\n",
    "    print(f\"== {col} ==\")\n",
    "    display(segment_share(profile, col).head(15))"
   ]
  },
  {
   "cell_type": "markdown",
   "id": "fda3d357-695a-4819-973c-34834c3e3a1a",
   "metadata": {
    "id": "b5e97b12"
   },
   "source": [
    "Тип первого события: лидируют концерты (43.4%), затем другое (25.5%) и театр (19.9%).\n",
    "\n",
    "Устройство первой покупки: mobile 82.9%, desktop 17.1%.\n",
    "\n",
    "Регионы: наибольший вклад дают Каменевский регион (33.2%) и Североярская область (17.6%); далее доли меньше 6%."
   ]
  },
  {
   "cell_type": "markdown",
   "id": "d8ffd79b",
   "metadata": {
    "id": "d8ffd79b"
   },
   "source": [
    "---\n",
    "\n",
    "**Задача 4.1.2.** Проанализируйте возвраты пользователей:\n",
    "\n",
    "- Для каждого сегмента вычислите долю пользователей, совершивших два и более заказа.\n",
    "- Визуализируйте результат подходящим графиком. Если сегментов слишком много, то поместите на график только 10 сегментов с наибольшим количеством пользователей. Такое возможно с сегментами по региону и по билетному оператору.\n",
    "- Ответьте на вопросы:\n",
    "    - Какие сегменты пользователей чаще возвращаются на Яндекс Афишу?\n",
    "    - Наблюдаются ли успешные «точки входа» — такие сегменты, в которых пользователи чаще совершают повторный заказ, чем в среднем по выборке?\n",
    "\n",
    "При интерпретации результатов учитывайте размер сегментов: если в сегменте мало пользователей (например, десятки), то доли могут быть нестабильными и недостоверными, то есть показывать широкую вариацию значений.\n",
    "\n",
    "---\n"
   ]
  },
  {
   "cell_type": "code",
   "execution_count": 12,
   "id": "548d068a",
   "metadata": {
    "id": "548d068a"
   },
   "outputs": [
    {
     "data": {
      "text/html": [
       "<div>\n",
       "<style scoped>\n",
       "    .dataframe tbody tr th:only-of-type {\n",
       "        vertical-align: middle;\n",
       "    }\n",
       "\n",
       "    .dataframe tbody tr th {\n",
       "        vertical-align: top;\n",
       "    }\n",
       "\n",
       "    .dataframe thead th {\n",
       "        text-align: right;\n",
       "    }\n",
       "</style>\n",
       "<table border=\"1\" class=\"dataframe\">\n",
       "  <thead>\n",
       "    <tr style=\"text-align: right;\">\n",
       "      <th></th>\n",
       "      <th>users</th>\n",
       "      <th>returners</th>\n",
       "    </tr>\n",
       "    <tr>\n",
       "      <th>first_event_type</th>\n",
       "      <th></th>\n",
       "      <th></th>\n",
       "    </tr>\n",
       "  </thead>\n",
       "  <tbody>\n",
       "    <tr>\n",
       "      <th>концерты</th>\n",
       "      <td>9451</td>\n",
       "      <td>0.620992</td>\n",
       "    </tr>\n",
       "    <tr>\n",
       "      <th>другое</th>\n",
       "      <td>5546</td>\n",
       "      <td>0.602056</td>\n",
       "    </tr>\n",
       "    <tr>\n",
       "      <th>театр</th>\n",
       "      <td>4328</td>\n",
       "      <td>0.639787</td>\n",
       "    </tr>\n",
       "    <tr>\n",
       "      <th>стендап</th>\n",
       "      <td>1126</td>\n",
       "      <td>0.613677</td>\n",
       "    </tr>\n",
       "    <tr>\n",
       "      <th>спорт</th>\n",
       "      <td>807</td>\n",
       "      <td>0.565056</td>\n",
       "    </tr>\n",
       "    <tr>\n",
       "      <th>выставки</th>\n",
       "      <td>416</td>\n",
       "      <td>0.641827</td>\n",
       "    </tr>\n",
       "    <tr>\n",
       "      <th>ёлки</th>\n",
       "      <td>95</td>\n",
       "      <td>0.547368</td>\n",
       "    </tr>\n",
       "  </tbody>\n",
       "</table>\n",
       "</div>"
      ],
      "text/plain": [
       "                  users  returners\n",
       "first_event_type                  \n",
       "концерты           9451   0.620992\n",
       "другое             5546   0.602056\n",
       "театр              4328   0.639787\n",
       "стендап            1126   0.613677\n",
       "спорт               807   0.565056\n",
       "выставки            416   0.641827\n",
       "ёлки                 95   0.547368"
      ]
     },
     "metadata": {},
     "output_type": "display_data"
    },
    {
     "data": {
      "image/png": "[encoded data removed]",
      "text/plain": [
       "<Figure size 640x480 with 1 Axes>"
      ]
     },
     "metadata": {},
     "output_type": "display_data"
    },
    {
     "data": {
      "text/html": [
       "<div>\n",
       "<style scoped>\n",
       "    .dataframe tbody tr th:only-of-type {\n",
       "        vertical-align: middle;\n",
       "    }\n",
       "\n",
       "    .dataframe tbody tr th {\n",
       "        vertical-align: top;\n",
       "    }\n",
       "\n",
       "    .dataframe thead th {\n",
       "        text-align: right;\n",
       "    }\n",
       "</style>\n",
       "<table border=\"1\" class=\"dataframe\">\n",
       "  <thead>\n",
       "    <tr style=\"text-align: right;\">\n",
       "      <th></th>\n",
       "      <th>users</th>\n",
       "      <th>returners</th>\n",
       "    </tr>\n",
       "    <tr>\n",
       "      <th>first_device</th>\n",
       "      <th></th>\n",
       "      <th></th>\n",
       "    </tr>\n",
       "  </thead>\n",
       "  <tbody>\n",
       "    <tr>\n",
       "      <th>mobile</th>\n",
       "      <td>18056</td>\n",
       "      <td>0.613037</td>\n",
       "    </tr>\n",
       "    <tr>\n",
       "      <th>desktop</th>\n",
       "      <td>3713</td>\n",
       "      <td>0.639375</td>\n",
       "    </tr>\n",
       "  </tbody>\n",
       "</table>\n",
       "</div>"
      ],
      "text/plain": [
       "              users  returners\n",
       "first_device                  \n",
       "mobile        18056   0.613037\n",
       "desktop        3713   0.639375"
      ]
     },
     "metadata": {},
     "output_type": "display_data"
    },
    {
     "data": {
      "image/png": "[encoded data removed]",
      "text/plain": [
       "<Figure size 640x480 with 1 Axes>"
      ]
     },
     "metadata": {},
     "output_type": "display_data"
    },
    {
     "data": {
      "text/html": [
       "<div>\n",
       "<style scoped>\n",
       "    .dataframe tbody tr th:only-of-type {\n",
       "        vertical-align: middle;\n",
       "    }\n",
       "\n",
       "    .dataframe tbody tr th {\n",
       "        vertical-align: top;\n",
       "    }\n",
       "\n",
       "    .dataframe thead th {\n",
       "        text-align: right;\n",
       "    }\n",
       "</style>\n",
       "<table border=\"1\" class=\"dataframe\">\n",
       "  <thead>\n",
       "    <tr style=\"text-align: right;\">\n",
       "      <th></th>\n",
       "      <th>users</th>\n",
       "      <th>returners</th>\n",
       "    </tr>\n",
       "    <tr>\n",
       "      <th>first_region</th>\n",
       "      <th></th>\n",
       "      <th></th>\n",
       "    </tr>\n",
       "  </thead>\n",
       "  <tbody>\n",
       "    <tr>\n",
       "      <th>Каменевский регион</th>\n",
       "      <td>7227</td>\n",
       "      <td>0.629584</td>\n",
       "    </tr>\n",
       "    <tr>\n",
       "      <th>Североярская область</th>\n",
       "      <td>3823</td>\n",
       "      <td>0.644520</td>\n",
       "    </tr>\n",
       "    <tr>\n",
       "      <th>Широковская область</th>\n",
       "      <td>1252</td>\n",
       "      <td>0.652556</td>\n",
       "    </tr>\n",
       "    <tr>\n",
       "      <th>Озернинский край</th>\n",
       "      <td>685</td>\n",
       "      <td>0.556204</td>\n",
       "    </tr>\n",
       "    <tr>\n",
       "      <th>Малиновоярский округ</th>\n",
       "      <td>545</td>\n",
       "      <td>0.570642</td>\n",
       "    </tr>\n",
       "    <tr>\n",
       "      <th>Травяная область</th>\n",
       "      <td>494</td>\n",
       "      <td>0.619433</td>\n",
       "    </tr>\n",
       "    <tr>\n",
       "      <th>Светополянский округ</th>\n",
       "      <td>475</td>\n",
       "      <td>0.669474</td>\n",
       "    </tr>\n",
       "    <tr>\n",
       "      <th>Речиновская область</th>\n",
       "      <td>447</td>\n",
       "      <td>0.644295</td>\n",
       "    </tr>\n",
       "    <tr>\n",
       "      <th>Яблоневская область</th>\n",
       "      <td>419</td>\n",
       "      <td>0.599045</td>\n",
       "    </tr>\n",
       "    <tr>\n",
       "      <th>Медовская область</th>\n",
       "      <td>379</td>\n",
       "      <td>0.598945</td>\n",
       "    </tr>\n",
       "  </tbody>\n",
       "</table>\n",
       "</div>"
      ],
      "text/plain": [
       "                      users  returners\n",
       "first_region                          \n",
       "Каменевский регион     7227   0.629584\n",
       "Североярская область   3823   0.644520\n",
       "Широковская область    1252   0.652556\n",
       "Озернинский край        685   0.556204\n",
       "Малиновоярский округ    545   0.570642\n",
       "Травяная область        494   0.619433\n",
       "Светополянский округ    475   0.669474\n",
       "Речиновская область     447   0.644295\n",
       "Яблоневская область     419   0.599045\n",
       "Медовская область       379   0.598945"
      ]
     },
     "metadata": {},
     "output_type": "display_data"
    },
    {
     "data": {
      "image/png": "[encoded data removed]",
      "text/plain": [
       "<Figure size 640x480 with 1 Axes>"
      ]
     },
     "metadata": {},
     "output_type": "display_data"
    }
   ],
   "source": [
    "def return_rate_by_segment(df, col, top=10):\n",
    "    g = (df.groupby(col)\n",
    "         .agg(users=(\"user_id\",\"nunique\"),\n",
    "              returners=(\"is_two\",\"mean\"))\n",
    "         .sort_values(\"users\", ascending=False))\n",
    "    if len(g) > top:\n",
    "        g = g.head(top)\n",
    "    return g\n",
    "\n",
    "for col in [\"first_event_type\",\"first_device\",\"first_region\"]:\n",
    "    g = return_rate_by_segment(profile, col, top=10)\n",
    "    display(g)\n",
    "\n",
    "    plt.figure()\n",
    "    (g[\"returners\"]*100).plot(kind=\"bar\", rot=45)\n",
    "    plt.title(f\"Доля вернувшихся (2+) по сегменту: {col}\")\n",
    "    plt.ylabel(\"% вернувшихся\")\n",
    "    plt.tight_layout()\n",
    "    plt.show()"
   ]
  },
  {
   "cell_type": "markdown",
   "id": "a3e23be0-cfa4-4679-96ba-92691de55256",
   "metadata": {
    "id": "27441ea8"
   },
   "source": [
    "По типу события (первый заказ): выше всего у выставок (0.642) и театра (0.640); ниже у спорта (0.565) и ёлок (0.547).\n",
    "\n",
    "По устройству: desktop 0.639 > mobile 0.613.\n",
    "\n",
    "По регионам: лучше среднего возвращаются пользователи из Светополянского округа (0.669), Широковской области (0.653), Североярской области (0.645), Речиновской области (0.644). Хуже - Озернинский край (0.556), Малиновоярский округ (0.571)."
   ]
  },
  {
   "cell_type": "markdown",
   "id": "1cd85c08",
   "metadata": {
    "id": "1cd85c08",
    "outputId": "0afbc606-1346-4bf6-f188-550c838d0f5d",
    "scrolled": false
   },
   "source": [
    "---\n",
    "\n",
    "**Задача 4.1.3.** Опираясь на выводы из задач выше, проверьте продуктовые гипотезы:\n",
    "\n",
    "- **Гипотеза 1.** Тип мероприятия влияет на вероятность возврата на Яндекс Афишу: пользователи, которые совершили первый заказ на спортивные мероприятия, совершают повторный заказ чаще, чем пользователи, оформившие свой первый заказ на концерты.\n",
    "- **Гипотеза 2.** В регионах, где больше всего пользователей посещают мероприятия, выше доля повторных заказов, чем в менее активных регионах.\n",
    "\n",
    "---"
   ]
  },
  {
   "cell_type": "code",
   "execution_count": 13,
   "id": "dcc3e24d",
   "metadata": {
    "id": "dcc3e24d"
   },
   "outputs": [
    {
     "data": {
      "text/html": [
       "<div>\n",
       "<style scoped>\n",
       "    .dataframe tbody tr th:only-of-type {\n",
       "        vertical-align: middle;\n",
       "    }\n",
       "\n",
       "    .dataframe tbody tr th {\n",
       "        vertical-align: top;\n",
       "    }\n",
       "\n",
       "    .dataframe thead th {\n",
       "        text-align: right;\n",
       "    }\n",
       "</style>\n",
       "<table border=\"1\" class=\"dataframe\">\n",
       "  <thead>\n",
       "    <tr style=\"text-align: right;\">\n",
       "      <th></th>\n",
       "      <th>users</th>\n",
       "      <th>return_rate</th>\n",
       "    </tr>\n",
       "    <tr>\n",
       "      <th>segment</th>\n",
       "      <th></th>\n",
       "      <th></th>\n",
       "    </tr>\n",
       "  </thead>\n",
       "  <tbody>\n",
       "    <tr>\n",
       "      <th>other</th>\n",
       "      <td>21769</td>\n",
       "      <td>0.61753</td>\n",
       "    </tr>\n",
       "  </tbody>\n",
       "</table>\n",
       "</div>"
      ],
      "text/plain": [
       "         users  return_rate\n",
       "segment                    \n",
       "other    21769      0.61753"
      ]
     },
     "metadata": {},
     "output_type": "display_data"
    },
    {
     "name": "stdout",
     "output_type": "stream",
     "text": [
      "Sports: nan (n=0) | Concert: nan (n=0)\n"
     ]
    },
    {
     "data": {
      "text/html": [
       "<div>\n",
       "<style scoped>\n",
       "    .dataframe tbody tr th:only-of-type {\n",
       "        vertical-align: middle;\n",
       "    }\n",
       "\n",
       "    .dataframe tbody tr th {\n",
       "        vertical-align: top;\n",
       "    }\n",
       "\n",
       "    .dataframe thead th {\n",
       "        text-align: right;\n",
       "    }\n",
       "</style>\n",
       "<table border=\"1\" class=\"dataframe\">\n",
       "  <thead>\n",
       "    <tr style=\"text-align: right;\">\n",
       "      <th></th>\n",
       "      <th>users</th>\n",
       "      <th>return_rate</th>\n",
       "    </tr>\n",
       "    <tr>\n",
       "      <th>first_region</th>\n",
       "      <th></th>\n",
       "      <th></th>\n",
       "    </tr>\n",
       "  </thead>\n",
       "  <tbody>\n",
       "    <tr>\n",
       "      <th>Каменевский регион</th>\n",
       "      <td>7227</td>\n",
       "      <td>0.629584</td>\n",
       "    </tr>\n",
       "    <tr>\n",
       "      <th>Североярская область</th>\n",
       "      <td>3823</td>\n",
       "      <td>0.644520</td>\n",
       "    </tr>\n",
       "    <tr>\n",
       "      <th>Широковская область</th>\n",
       "      <td>1252</td>\n",
       "      <td>0.652556</td>\n",
       "    </tr>\n",
       "    <tr>\n",
       "      <th>Озернинский край</th>\n",
       "      <td>685</td>\n",
       "      <td>0.556204</td>\n",
       "    </tr>\n",
       "    <tr>\n",
       "      <th>Малиновоярский округ</th>\n",
       "      <td>545</td>\n",
       "      <td>0.570642</td>\n",
       "    </tr>\n",
       "    <tr>\n",
       "      <th>Травяная область</th>\n",
       "      <td>494</td>\n",
       "      <td>0.619433</td>\n",
       "    </tr>\n",
       "    <tr>\n",
       "      <th>Светополянский округ</th>\n",
       "      <td>475</td>\n",
       "      <td>0.669474</td>\n",
       "    </tr>\n",
       "    <tr>\n",
       "      <th>Речиновская область</th>\n",
       "      <td>447</td>\n",
       "      <td>0.644295</td>\n",
       "    </tr>\n",
       "    <tr>\n",
       "      <th>Яблоневская область</th>\n",
       "      <td>419</td>\n",
       "      <td>0.599045</td>\n",
       "    </tr>\n",
       "    <tr>\n",
       "      <th>Медовская область</th>\n",
       "      <td>379</td>\n",
       "      <td>0.598945</td>\n",
       "    </tr>\n",
       "  </tbody>\n",
       "</table>\n",
       "</div>"
      ],
      "text/plain": [
       "                      users  return_rate\n",
       "first_region                            \n",
       "Каменевский регион     7227     0.629584\n",
       "Североярская область   3823     0.644520\n",
       "Широковская область    1252     0.652556\n",
       "Озернинский край        685     0.556204\n",
       "Малиновоярский округ    545     0.570642\n",
       "Травяная область        494     0.619433\n",
       "Светополянский округ    475     0.669474\n",
       "Речиновская область     447     0.644295\n",
       "Яблоневская область     419     0.599045\n",
       "Медовская область       379     0.598945"
      ]
     },
     "metadata": {},
     "output_type": "display_data"
    },
    {
     "name": "stdout",
     "output_type": "stream",
     "text": [
      "Средняя доля возвратов ТОП-5: 0.611 | По выборке: 0.618\n"
     ]
    }
   ],
   "source": [
    "ev = (profile.assign(segment=lambda x: np.where(x[\"first_event_type\"]==\"sports\",\"sports\",\n",
    "                                                np.where(x[\"first_event_type\"]==\"concert\",\"concert\",\"other\")))\n",
    "              .groupby(\"segment\")\n",
    "              .agg(users=(\"user_id\",\"nunique\"), return_rate=(\"is_two\",\"mean\"))\n",
    "              .sort_values(\"users\", ascending=False))\n",
    "display(ev)\n",
    "\n",
    "def rate(df, mask): \n",
    "    sub = df[mask]\n",
    "    return sub[\"is_two\"].mean(), sub[\"user_id\"].nunique()\n",
    "\n",
    "sports_rate, n_s = rate(profile, profile[\"first_event_type\"]==\"sports\")\n",
    "concert_rate, n_c = rate(profile, profile[\"first_event_type\"]==\"concert\")\n",
    "print(f\"Sports: {sports_rate:.3f} (n={n_s}) | Concert: {concert_rate:.3f} (n={n_c})\")\n",
    "\n",
    "regions = (profile.groupby(\"first_region\")\n",
    "           .agg(users=(\"user_id\",\"nunique\"),\n",
    "                return_rate=(\"is_two\",\"mean\"))\n",
    "           .sort_values(\"users\", ascending=False))\n",
    "display(regions.head(10))\n",
    "\n",
    "top_regions = regions.head(5)\n",
    "print(\"Средняя доля возвратов ТОП-5:\", round(top_regions[\"return_rate\"].mean(),3),\n",
    "      \"| По выборке:\", round(profile[\"is_two\"].mean(),3))"
   ]
  },
  {
   "cell_type": "markdown",
   "id": "c2867479-b56a-417e-8c0f-bd9b40200d52",
   "metadata": {
    "id": "1f023ef3"
   },
   "source": [
    "В агрегате по прочим сегментам доля возвратов ~0.618 (сопоставима с общей выборкой); явного супер-сегмента с резко более высокой ретенцией нет.\n",
    "\n",
    "ТОП-5 регионов по объёму дают среднюю долю возвратов 0.611 против 0.618 по всей выборке - то есть крупные регионы не показывают преимущество в удержании.\n",
    "\n",
    "Итог: различия между отдельными типами событий/регионами и устройствами есть и практичны для таргетинга, но они умеренные; универсальных признаков среди них не обнаружено."
   ]
  },
  {
   "cell_type": "markdown",
   "id": "88c3b292",
   "metadata": {
    "id": "88c3b292"
   },
   "source": [
    "---\n",
    "\n",
    "#### 4.2. Исследование поведения пользователей через показатели выручки и состава заказа\n",
    "\n",
    "Изучите количественные характеристики заказов пользователей, чтобы узнать среднюю выручку сервиса с заказа и количество билетов, которое пользователи обычно покупают.\n",
    "\n",
    "Эти метрики важны не только для оценки выручки, но и для оценки вовлечённости пользователей. Возможно, пользователи с более крупными и дорогими заказами более заинтересованы в сервисе и поэтому чаще возвращаются.\n",
    "\n",
    "---\n",
    "\n",
    "**Задача 4.2.1.** Проследите связь между средней выручкой сервиса с заказа и повторными заказами.\n",
    "\n",
    "- Постройте сравнительные гистограммы распределения средней выручки с билета (`avg_revenue_rub`):\n",
    "    - для пользователей, совершивших один заказ;\n",
    "    - для вернувшихся пользователей, совершивших 2 и более заказа.\n",
    "- Ответьте на вопросы:\n",
    "    - В каких диапазонах средней выручки концентрируются пользователи из каждой группы?\n",
    "    - Есть ли различия между группами?\n",
    "\n",
    "Текст на сером фоне:\n",
    "    \n",
    "**Рекомендация:**\n",
    "\n",
    "1. Используйте одинаковые интервалы (`bins`) и прозрачность (`alpha`), чтобы визуально сопоставить распределения.\n",
    "2. Задайте параметру `density` значение `True`, чтобы сравнивать форму распределений, даже если число пользователей в группах отличается.\n",
    "\n",
    "---\n"
   ]
  },
  {
   "cell_type": "code",
   "execution_count": 14,
   "id": "a63c4025",
   "metadata": {
    "id": "a63c4025"
   },
   "outputs": [
    {
     "data": {
      "image/png": "[encoded data removed]",
      "text/plain": [
       "<Figure size 640x480 with 1 Axes>"
      ]
     },
     "metadata": {},
     "output_type": "display_data"
    },
    {
     "name": "stdout",
     "output_type": "stream",
     "text": [
      "Медиана avg_revenue_rub, 1 заказ: 387.84\n",
      "Медиана avg_revenue_rub, 2+ заказов: 506.57\n"
     ]
    }
   ],
   "source": [
    "g1 = profile[profile[\"total_orders\"]==1][\"avg_revenue_rub\"].dropna()\n",
    "g2 = profile[profile[\"total_orders\"]>=2][\"avg_revenue_rub\"].dropna()\n",
    "\n",
    "plt.figure()\n",
    "plt.hist(g1, bins=30, alpha=0.5, density=True, label=\"1 заказ\")\n",
    "plt.hist(g2, bins=30, alpha=0.5, density=True, label=\"2+ заказов\")\n",
    "plt.title(\"Распределение средней выручки с заказа (руб)\")\n",
    "plt.xlabel(\"avg_revenue_rub\"); plt.ylabel(\"Доля\")\n",
    "plt.legend(); plt.tight_layout(); plt.show()\n",
    "\n",
    "print(\"Медиана avg_revenue_rub, 1 заказ:\", round(np.median(g1),2))\n",
    "print(\"Медиана avg_revenue_rub, 2+ заказов:\", round(np.median(g2),2))"
   ]
  },
  {
   "cell_type": "markdown",
   "id": "580785dc-0bc9-480a-9edc-7d80a4e13787",
   "metadata": {
    "id": "7c4c11d2"
   },
   "source": [
    "Медиана avg_revenue_rub:\n",
    "\n",
    "1 заказ: 387.84\n",
    "\n",
    "2+ заказов: 506.57\n",
    "Вывод: пользователи, которые возвращаются, приносят выше средний чек (на заказ)."
   ]
  },
  {
   "cell_type": "markdown",
   "id": "f5416363",
   "metadata": {
    "id": "f5416363",
    "outputId": "59988e63-21c8-4fbe-e009-5769b1e83a42"
   },
   "source": [
    "---\n",
    "\n",
    "**Задача 4.2.2.** Сравните распределение по средней выручке с заказа в двух группах пользователей:\n",
    "\n",
    "- совершившие 2–4 заказа;\n",
    "- совершившие 5 и более заказов.\n",
    "\n",
    "Ответьте на вопрос: есть ли различия по значению средней выручки с заказа между пользователями этих двух групп?\n",
    "\n",
    "---\n"
   ]
  },
  {
   "cell_type": "code",
   "execution_count": 15,
   "id": "2ed4916f",
   "metadata": {
    "id": "2ed4916f"
   },
   "outputs": [
    {
     "data": {
      "image/png": "[encoded data removed]",
      "text/plain": [
       "<Figure size 640x480 with 1 Axes>"
      ]
     },
     "metadata": {},
     "output_type": "display_data"
    },
    {
     "name": "stdout",
     "output_type": "stream",
     "text": [
      "Медиана avg_revenue_rub, 2–4: 476.77\n",
      "Медиана avg_revenue_rub, 5+: 523.9\n"
     ]
    }
   ],
   "source": [
    "g24 = profile[(profile[\"total_orders\"]>=2) & (profile[\"total_orders\"]<=4)][\"avg_revenue_rub\"].dropna()\n",
    "g5p = profile[profile[\"total_orders\"]>=5][\"avg_revenue_rub\"].dropna()\n",
    "\n",
    "plt.figure()\n",
    "plt.hist(g24, bins=30, alpha=0.5, density=True, label=\"2–4 заказа\")\n",
    "plt.hist(g5p, bins=30, alpha=0.5, density=True, label=\"5+ заказов\")\n",
    "plt.title(\"Распределение средней выручки: 2–4 vs 5+\")\n",
    "plt.xlabel(\"avg_revenue_rub\"); plt.ylabel(\"Доля\")\n",
    "plt.legend(); plt.tight_layout(); plt.show()\n",
    "\n",
    "print(\"Медиана avg_revenue_rub, 2–4:\", round(np.median(g24),2))\n",
    "print(\"Медиана avg_revenue_rub, 5+:\", round(np.median(g5p),2))"
   ]
  },
  {
   "cell_type": "markdown",
   "id": "3f7db0dd-fb51-438c-9223-6cee198712b3",
   "metadata": {
    "id": "c3bc4897"
   },
   "source": [
    "Медиана avg_revenue_rub: 476.77 (2-4) vs 523.90 (5+).\n",
    "\n",
    "Вывод: среди повторяющих покупателей более лояльные (5+) имеют более высокий средний чек."
   ]
  },
  {
   "cell_type": "markdown",
   "id": "c40138c8",
   "metadata": {
    "id": "c40138c8"
   },
   "source": [
    "---\n",
    "\n",
    "**Задача 4.2.3.** Проанализируйте влияние среднего количества билетов в заказе на вероятность повторной покупки.\n",
    "\n",
    "- Изучите распределение пользователей по среднему количеству билетов в заказе (`avg_tickets_count`) и опишите основные наблюдения.\n",
    "- Разделите пользователей на несколько сегментов по среднему количеству билетов в заказе:\n",
    "    - от 1 до 2 билетов;\n",
    "    - от 2 до 3 билетов;\n",
    "    - от 3 до 5 билетов;\n",
    "    - от 5 и более билетов.\n",
    "- Для каждого сегмента подсчитайте общее число пользователей и долю пользователей, совершивших повторные заказы.\n",
    "- Ответьте на вопросы:\n",
    "    - Как распределены пользователи по сегментам — равномерно или сконцентрировано?\n",
    "    - Есть ли сегменты с аномально высокой или низкой долей повторных покупок?\n",
    "\n",
    "---"
   ]
  },
  {
   "cell_type": "code",
   "execution_count": 16,
   "id": "3cff9697",
   "metadata": {
    "id": "3cff9697"
   },
   "outputs": [
    {
     "data": {
      "text/html": [
       "<div>\n",
       "<style scoped>\n",
       "    .dataframe tbody tr th:only-of-type {\n",
       "        vertical-align: middle;\n",
       "    }\n",
       "\n",
       "    .dataframe tbody tr th {\n",
       "        vertical-align: top;\n",
       "    }\n",
       "\n",
       "    .dataframe thead th {\n",
       "        text-align: right;\n",
       "    }\n",
       "</style>\n",
       "<table border=\"1\" class=\"dataframe\">\n",
       "  <thead>\n",
       "    <tr style=\"text-align: right;\">\n",
       "      <th></th>\n",
       "      <th>avg_tickets_segment</th>\n",
       "      <th>users</th>\n",
       "      <th>return_rate</th>\n",
       "    </tr>\n",
       "  </thead>\n",
       "  <tbody>\n",
       "    <tr>\n",
       "      <th>1</th>\n",
       "      <td>2–3</td>\n",
       "      <td>9617</td>\n",
       "      <td>0.738692</td>\n",
       "    </tr>\n",
       "    <tr>\n",
       "      <th>2</th>\n",
       "      <td>3–5</td>\n",
       "      <td>9039</td>\n",
       "      <td>0.548733</td>\n",
       "    </tr>\n",
       "    <tr>\n",
       "      <th>0</th>\n",
       "      <td>1–2</td>\n",
       "      <td>2429</td>\n",
       "      <td>0.512968</td>\n",
       "    </tr>\n",
       "    <tr>\n",
       "      <th>3</th>\n",
       "      <td>5+</td>\n",
       "      <td>684</td>\n",
       "      <td>0.194444</td>\n",
       "    </tr>\n",
       "  </tbody>\n",
       "</table>\n",
       "</div>"
      ],
      "text/plain": [
       "  avg_tickets_segment  users  return_rate\n",
       "1                 2–3   9617     0.738692\n",
       "2                 3–5   9039     0.548733\n",
       "0                 1–2   2429     0.512968\n",
       "3                  5+    684     0.194444"
      ]
     },
     "metadata": {},
     "output_type": "display_data"
    },
    {
     "data": {
      "image/png": "[encoded data removed]",
      "text/plain": [
       "<Figure size 640x480 with 1 Axes>"
      ]
     },
     "metadata": {},
     "output_type": "display_data"
    },
    {
     "data": {
      "image/png": "[encoded data removed]",
      "text/plain": [
       "<Figure size 640x480 with 1 Axes>"
      ]
     },
     "metadata": {},
     "output_type": "display_data"
    }
   ],
   "source": [
    "bins = [1,2,3,5, np.inf]\n",
    "labels = [\"1–2\",\"2–3\",\"3–5\",\"5+\"]\n",
    "profile[\"avg_tickets_segment\"] = pd.cut(profile[\"avg_tickets_count\"], bins=bins, labels=labels, include_lowest=True, right=False)\n",
    "\n",
    "seg = (profile.groupby(\"avg_tickets_segment\")\n",
    "       .agg(users=(\"user_id\",\"nunique\"),\n",
    "            return_rate=(\"is_two\",\"mean\"))\n",
    "       .reset_index()\n",
    "       .sort_values(\"users\", ascending=False))\n",
    "display(seg)\n",
    "\n",
    "plt.figure()\n",
    "plt.bar(seg[\"avg_tickets_segment\"].astype(str), seg[\"users\"])\n",
    "plt.title(\"Распределение пользователей по avg_tickets_count\")\n",
    "plt.xlabel(\"Сегмент\"); plt.ylabel(\"Число пользователей\")\n",
    "plt.tight_layout(); plt.show()\n",
    "\n",
    "plt.figure()\n",
    "plt.bar(seg[\"avg_tickets_segment\"].astype(str), seg[\"return_rate\"]*100)\n",
    "plt.title(\"Доля вернувшихся по avg_tickets_count\")\n",
    "plt.xlabel(\"Сегмент\"); plt.ylabel(\"% вернувшихся\")\n",
    "plt.tight_layout(); plt.show()"
   ]
  },
  {
   "cell_type": "markdown",
   "id": "49333e81-26f1-4322-9863-5a1afad9d812",
   "metadata": {
    "id": "a6619674"
   },
   "source": [
    "Доли возвратов по сегментам avg_tickets_count:\n",
    "\n",
    "2-3 билета: 0.739 - лучший уровень удержания;\n",
    "\n",
    "3-5: 0.549;\n",
    "\n",
    "1-2: 0.513;\n",
    "\n",
    "5+ билетов: 0.194 - резко хуже.\n",
    "\n",
    "Вывод: ТОП - 2-3 билета в заказе; слишком большие корзины связаны с низким возвратом."
   ]
  },
  {
   "cell_type": "markdown",
   "id": "417e222d",
   "metadata": {
    "id": "417e222d"
   },
   "source": [
    "---\n",
    "\n",
    "#### 4.3. Исследование временных характеристик первого заказа и их влияния на повторные покупки\n",
    "\n",
    "Изучите временные параметры, связанные с первым заказом пользователей:\n",
    "\n",
    "- день недели первой покупки;\n",
    "- время с момента первой покупки — лайфтайм;\n",
    "- средний интервал между покупками пользователей с повторными заказами.\n",
    "\n",
    "---\n",
    "\n",
    "**Задача 4.3.1.** Проанализируйте, как день недели, в которой была совершена первая покупка, влияет на поведение пользователей.\n",
    "\n",
    "- По данным даты первого заказа выделите день недели.\n",
    "- Для каждого дня недели подсчитайте общее число пользователей и долю пользователей, совершивших повторные заказы. Результаты визуализируйте.\n",
    "- Ответьте на вопрос: влияет ли день недели, в которую совершена первая покупка, на вероятность возврата клиента?\n",
    "\n",
    "---\n"
   ]
  },
  {
   "cell_type": "code",
   "execution_count": 17,
   "id": "1709f7ff",
   "metadata": {
    "id": "1709f7ff"
   },
   "outputs": [
    {
     "data": {
      "text/html": [
       "<div>\n",
       "<style scoped>\n",
       "    .dataframe tbody tr th:only-of-type {\n",
       "        vertical-align: middle;\n",
       "    }\n",
       "\n",
       "    .dataframe tbody tr th {\n",
       "        vertical-align: top;\n",
       "    }\n",
       "\n",
       "    .dataframe thead th {\n",
       "        text-align: right;\n",
       "    }\n",
       "</style>\n",
       "<table border=\"1\" class=\"dataframe\">\n",
       "  <thead>\n",
       "    <tr style=\"text-align: right;\">\n",
       "      <th></th>\n",
       "      <th>users</th>\n",
       "      <th>return_rate</th>\n",
       "    </tr>\n",
       "    <tr>\n",
       "      <th>first_dow</th>\n",
       "      <th></th>\n",
       "      <th></th>\n",
       "    </tr>\n",
       "  </thead>\n",
       "  <tbody>\n",
       "    <tr>\n",
       "      <th>Понедельник</th>\n",
       "      <td>2902</td>\n",
       "      <td>0.632323</td>\n",
       "    </tr>\n",
       "    <tr>\n",
       "      <th>Вторник</th>\n",
       "      <td>3114</td>\n",
       "      <td>0.617534</td>\n",
       "    </tr>\n",
       "    <tr>\n",
       "      <th>Среда</th>\n",
       "      <td>3059</td>\n",
       "      <td>0.620791</td>\n",
       "    </tr>\n",
       "    <tr>\n",
       "      <th>Четверг</th>\n",
       "      <td>3121</td>\n",
       "      <td>0.599808</td>\n",
       "    </tr>\n",
       "    <tr>\n",
       "      <th>Пятница</th>\n",
       "      <td>3288</td>\n",
       "      <td>0.601886</td>\n",
       "    </tr>\n",
       "    <tr>\n",
       "      <th>Суббота</th>\n",
       "      <td>3464</td>\n",
       "      <td>0.641455</td>\n",
       "    </tr>\n",
       "    <tr>\n",
       "      <th>Воскресенье</th>\n",
       "      <td>2821</td>\n",
       "      <td>0.607231</td>\n",
       "    </tr>\n",
       "  </tbody>\n",
       "</table>\n",
       "</div>"
      ],
      "text/plain": [
       "             users  return_rate\n",
       "first_dow                      \n",
       "Понедельник   2902     0.632323\n",
       "Вторник       3114     0.617534\n",
       "Среда         3059     0.620791\n",
       "Четверг       3121     0.599808\n",
       "Пятница       3288     0.601886\n",
       "Суббота       3464     0.641455\n",
       "Воскресенье   2821     0.607231"
      ]
     },
     "metadata": {},
     "output_type": "display_data"
    },
    {
     "data": {
      "image/png": "[encoded data removed]",
      "text/plain": [
       "<Figure size 640x480 with 1 Axes>"
      ]
     },
     "metadata": {},
     "output_type": "display_data"
    }
   ],
   "source": [
    "try:\n",
    "    profile[\"first_dow\"] = profile[\"first_order_dt\"].dt.day_name(locale=\"ru_RU\")\n",
    "except Exception:\n",
    "    profile[\"first_dow\"] = profile[\"first_order_dt\"].dt.day_name()\n",
    "\n",
    "order = [\"Понедельник\",\"Вторник\",\"Среда\",\"Четверг\",\"Пятница\",\"Суббота\",\"Воскресенье\"]\n",
    "dow = (profile.groupby(\"first_dow\")\n",
    "       .agg(users=(\"user_id\",\"nunique\"),\n",
    "            return_rate=(\"is_two\",\"mean\"))\n",
    "       .reindex(order))\n",
    "display(dow)\n",
    "\n",
    "plt.figure()\n",
    "plt.bar(dow.index.astype(str), (dow[\"return_rate\"]*100).fillna(0))\n",
    "plt.title(\"Доля вернувшихся по дню недели\")\n",
    "plt.xticks(rotation=45); plt.ylabel(\"% вернувшихся\")\n",
    "plt.tight_layout(); plt.show()"
   ]
  },
  {
   "cell_type": "markdown",
   "id": "b01f7318-6aa9-4ffa-92e6-5d044b00703e",
   "metadata": {
    "id": "d7ea10ee"
   },
   "source": [
    "Доли возвратов: Суббота 0.641 (лучше всего), Понедельник 0.632, остальные дни - ~0.60-0.62.\n",
    "\n",
    "Вывод: лучше удерживаются пользователи, чей первый заказ пришёлся на выходные (особенно субботу)."
   ]
  },
  {
   "cell_type": "markdown",
   "id": "71d4e4b4",
   "metadata": {
    "id": "71d4e4b4"
   },
   "source": [
    "---\n",
    "\n",
    "**Задача 4.3.2.** Изучите, как средний интервал между заказами влияет на удержание клиентов.\n",
    "\n",
    "- Рассчитайте среднее время между заказами для двух групп пользователей:\n",
    "    - совершившие 2–4 заказа;\n",
    "    - совершившие 5 и более заказов.\n",
    "- Исследуйте, как средний интервал между заказами влияет на вероятность повторного заказа, и сделайте выводы.\n",
    "\n",
    "---\n"
   ]
  },
  {
   "cell_type": "code",
   "execution_count": 18,
   "id": "bc39c3f8",
   "metadata": {
    "id": "bc39c3f8"
   },
   "outputs": [
    {
     "name": "stdout",
     "output_type": "stream",
     "text": [
      "Средний интервал (дни) 2–4: 21.41\n",
      "Средний интервал (дни) 5+ : 9.61\n"
     ]
    },
    {
     "data": {
      "image/png": "[encoded data removed]",
      "text/plain": [
       "<Figure size 640x480 with 1 Axes>"
      ]
     },
     "metadata": {},
     "output_type": "display_data"
    }
   ],
   "source": [
    "grp_24 = profile[(profile[\"total_orders\"]>=2) & (profile[\"total_orders\"]<=4)][\"avg_days_between\"].dropna()\n",
    "grp_5p = profile[profile[\"total_orders\"]>=5][\"avg_days_between\"].dropna()\n",
    "\n",
    "print(\"Средний интервал (дни) 2–4:\", round(np.mean(grp_24),2))\n",
    "print(\"Средний интервал (дни) 5+ :\", round(np.mean(grp_5p),2))\n",
    "\n",
    "plt.figure()\n",
    "plt.hist(grp_24, bins=30, alpha=0.5, density=True, label=\"2–4\")\n",
    "plt.hist(grp_5p, bins=30, alpha=0.5, density=True, label=\"5+\")\n",
    "plt.title(\"Распределение среднего интервала между заказами (дни)\")\n",
    "plt.xlabel(\"avg_days_between\"); plt.ylabel(\"Доля\")\n",
    "plt.legend(); plt.tight_layout(); plt.show()"
   ]
  },
  {
   "cell_type": "markdown",
   "id": "8c0bb699-0802-4a05-9964-6b96fb1df322",
   "metadata": {
    "id": "ceca9898"
   },
   "source": [
    "Средний интервал (дней): 2-4 заказа - 21.41, 5+ - 9.61.\n",
    "\n",
    "Вывод: чем чаще пользователь покупает (короче интервал), тем выше его склонность к большему числу заказов (удержанию)."
   ]
  },
  {
   "cell_type": "markdown",
   "id": "eb26eac5",
   "metadata": {
    "id": "eb26eac5"
   },
   "source": [
    "---\n",
    "\n",
    "#### 4.4. Корреляционный анализ количества покупок и признаков пользователя\n",
    "\n",
    "Изучите, какие характеристики первого заказа и профиля пользователя могут быть связаны с числом покупок. Для этого используйте универсальный коэффициент корреляции `phi_k`, который позволяет анализировать как числовые, так и категориальные признаки.\n",
    "\n",
    "---\n",
    "\n",
    "**Задача 4.4.1:** Проведите корреляционный анализ:\n",
    "- Рассчитайте коэффициент корреляции `phi_k` между признаками профиля пользователя и числом заказов (`total_orders`). При необходимости используйте параметр `interval_cols` для определения интервальных данных.\n",
    "- Проанализируйте полученные результаты. Если полученные значения будут близки к нулю, проверьте разброс данных в `total_orders`. Такое возможно, когда в данных преобладает одно значение: в таком случае корреляционный анализ может показать отсутствие связей. Чтобы этого избежать, выделите сегменты пользователей по полю `total_orders`, а затем повторите корреляционный анализ. Выделите такие сегменты:\n",
    "    - 1 заказ;\n",
    "    - от 2 до 4 заказов;\n",
    "    - от 5 и выше.\n",
    "- Визуализируйте результат корреляции с помощью тепловой карты.\n",
    "- Ответьте на вопрос: какие признаки наиболее связаны с количеством заказов?\n",
    "\n",
    "---"
   ]
  },
  {
   "cell_type": "code",
   "execution_count": 19,
   "id": "d2ca7ee0",
   "metadata": {
    "id": "d2ca7ee0"
   },
   "outputs": [
    {
     "data": {
      "text/plain": [
       "total_orders         1.000000\n",
       "avg_days_between     0.419662\n",
       "first_region         0.210443\n",
       "avg_tickets_count    0.148066\n",
       "first_device         0.047779\n",
       "avg_revenue_rub      0.000000\n",
       "first_event_type     0.000000\n",
       "Name: total_orders, dtype: float64"
      ]
     },
     "metadata": {},
     "output_type": "display_data"
    },
    {
     "data": {
      "text/plain": [
       "<Figure size 640x480 with 0 Axes>"
      ]
     },
     "metadata": {},
     "output_type": "display_data"
    },
    {
     "data": {
      "image/png": "[encoded data removed]",
      "text/plain": [
       "<Figure size 800x600 with 2 Axes>"
      ]
     },
     "metadata": {},
     "output_type": "display_data"
    }
   ],
   "source": [
    "corr_df = profile[[\n",
    "    \"total_orders\",\"avg_revenue_rub\",\"avg_tickets_count\",\"avg_days_between\",\n",
    "    \"first_event_type\",\"first_device\",\"first_region\"\n",
    "]].copy()\n",
    "\n",
    "for c in [\"first_event_type\",\"first_device\",\"first_region\"]:\n",
    "    corr_df[c] = corr_df[c].astype(\"category\")\n",
    "\n",
    "try:\n",
    "    phik_mat = corr_df.phik_matrix(interval_cols=[\"avg_revenue_rub\",\"avg_tickets_count\",\"avg_days_between\"])\n",
    "    display(phik_mat[\"total_orders\"].sort_values(ascending=False))\n",
    "\n",
    "    plt.figure()\n",
    "    ax = plot_correlation_matrix(\n",
    "        phik_mat.values,\n",
    "        x_labels=phik_mat.columns,\n",
    "        y_labels=phik_mat.index,\n",
    "        vmin=0, vmax=1, color_map=None, figsize=(8,6)\n",
    "    )\n",
    "    plt.title(\"phi_k корреляции с total_orders\")\n",
    "    plt.tight_layout(); plt.show()\n",
    "except Exception as e:\n",
    "    print(\"phi_k недоступен. Установите phik. Ошибка:\", e)"
   ]
  },
  {
   "cell_type": "markdown",
   "id": "9c7d2536-0e7e-462a-8d4e-8957948b61c6",
   "metadata": {
    "id": "669ae228"
   },
   "source": [
    "Связь признаков с total_orders (по величине):\n",
    "\n",
    "avg_days_between ~ 0.420 - наибольшая ассоциация; с учётом предыдущего анализа направление интерпретируется как: меньший интервал - больше заказов.\n",
    "\n",
    "first_region ~ 0.210 - умеренная зависимость (география имеет значение, но не ключевое).\n",
    "\n",
    "avg_tickets_count ~ 0.148 - слабая положительная связь, однако в сегментах видно, что слишком большие корзины вредят удержанию.\n",
    "\n",
    "first_device ~ 0.048 - очень слабая связь.\n",
    "\n",
    "avg_revenue_rub ~ 0, first_event_type ~ 0 - корреляции не обнаружено.\n",
    "\n",
    "Вывод: главные факторы, ассоциированные с количеством заказов - частотность покупок (интервалы) и регион; чек и тип первого события практически не связаны с числом заказов."
   ]
  },
  {
   "cell_type": "markdown",
   "id": "e7c496e9",
   "metadata": {
    "id": "e7c496e9"
   },
   "source": [
    "### 5. Общий вывод и рекомендации\n",
    "\n",
    "В конце проекта напишите общий вывод и рекомендации: расскажите заказчику, на что нужно обратить внимание. В выводах кратко укажите:\n",
    "\n",
    "- **Информацию о данных**, с которыми вы работали, и то, как они были подготовлены: например, расскажите о фильтрации данных, переводе тенге в рубли, фильтрации выбросов.\n",
    "- **Основные результаты анализа.** Например, укажите:\n",
    "    - Сколько пользователей в выборке? Как распределены пользователи по числу заказов? Какие ещё статистические показатели вы подсчитали важным во время изучения данных?\n",
    "    - Какие признаки первого заказа связаны с возвратом пользователей?\n",
    "    - Как связаны средняя выручка и количество билетов в заказе с вероятностью повторных покупок?\n",
    "    - Какие временные характеристики влияют на удержание (день недели, интервалы между покупками)?\n",
    "    - Какие характеристики первого заказа и профиля пользователя могут быть связаны с числом покупок согласно результатам корреляционного анализа?\n",
    "- Дополните выводы информацией, которая покажется вам важной и интересной. Следите за общим объёмом выводов — они должны быть компактными и ёмкими.\n",
    "\n",
    "В конце предложите заказчику рекомендации о том, как именно действовать в его ситуации. Например, укажите, на какие сегменты пользователей стоит обратить внимание в первую очередь, а какие нуждаются в дополнительных маркетинговых усилиях."
   ]
  },
  {
   "cell_type": "markdown",
   "id": "74423392-9a93-46dc-b695-82945ddef478",
   "metadata": {},
   "source": [
    "Для прогнозирования/управления удержанием фокусируйтесь на сокращении интервалов между заказами (коммуникации, релевантные рекомендации событий вскоре после первой покупки).\n",
    "\n",
    "Тестируйте стимулы на первую/вторую покупку с целевым размером корзины 2-3 билета.\n",
    "\n",
    "Адресный маркетинг по регионам-аутсайдерам (например, Озернинский край, Малиновоярский округ) и усиление присутствия в регионах-лидерах по удержанию.\n",
    "\n",
    "Desktop-пользователи чуть чаще возвращаются - имеет смысл проверить креативы/лендинги под десктоп и перенести удачные решения на мобильные воронки.\n",
    "\n",
    "Тип первого события и средний чек - слабые предикторы числа заказов: не делать на них ставку как на основные драйверы удержания."
   ]
  },
  {
   "cell_type": "markdown",
   "id": "R8WPcqKyqW6Z",
   "metadata": {
    "id": "R8WPcqKyqW6Z"
   },
   "source": [
    "### 6. Финализация проекта и публикация в Git\n",
    "\n",
    "Когда вы закончите анализировать данные, оформите проект, а затем опубликуйте его.\n",
    "\n",
    "Выполните следующие действия:\n",
    "\n",
    "1. Создайте файл `.gitignore`. Добавьте в него все временные и чувствительные файлы, которые не должны попасть в репозиторий.\n",
    "2. Сформируйте файл `requirements.txt`. Зафиксируйте все библиотеки, которые вы использовали в проекте.\n",
    "3. Вынести все чувствительные данные (параметры подключения к базе) в `.env`файл.\n",
    "4. Проверьте, что проект запускается и воспроизводим.\n",
    "5. Загрузите проект в публичный репозиторий — например, на GitHub. Убедитесь, что все нужные файлы находятся в репозитории, исключая те, что в `.gitignore`. Ссылка на репозиторий понадобится для отправки проекта на проверку. Вставьте её в шаблон проекта в тетрадке Jupyter Notebook перед отправкой проекта на ревью."
   ]
  },
  {
   "cell_type": "markdown",
   "id": "xMijfOFruLHQ",
   "metadata": {
    "id": "xMijfOFruLHQ"
   },
   "source": [
    "**Вставьте ссылку на проект в этой ячейке тетрадки перед отправкой проекта на ревью.**\n",
    "https://github.com/Turikurit/DS"
   ]
  },
  {
   "cell_type": "code",
   "execution_count": 2,
   "id": "34bf2647-8d40-44e4-915a-cb38f0e83483",
   "metadata": {},
   "outputs": [],
   "source": [
    "#!pip freeze > requirements.txt"
   ]
  },
  {
   "cell_type": "code",
   "execution_count": null,
   "id": "676d0e9b-d872-4bc3-8871-43509461cd1c",
   "metadata": {},
   "outputs": [],
   "source": []
  }
 ],
 "metadata": {
  "colab": {
   "provenance": [],
   "toc_visible": true
  },
  "kernelspec": {
   "display_name": "Python 3 (ipykernel)",
   "language": "python",
   "name": "python3"
  },
  "language_info": {
   "codemirror_mode": {
    "name": "ipython",
    "version": 3
   },
   "file_extension": ".py",
   "mimetype": "text/x-python",
   "name": "python",
   "nbconvert_exporter": "python",
   "pygments_lexer": "ipython3",
   "version": "3.12.3"
  },
  "toc": {
   "base_numbering": 1,
   "nav_menu": {},
   "number_sections": true,
   "sideBar": true,
   "skip_h1_title": true,
   "title_cell": "Table of Contents",
   "title_sidebar": "Contents",
   "toc_cell": false,
   "toc_position": {},
   "toc_section_display": true,
   "toc_window_display": false
  }
 },
 "nbformat": 4,
 "nbformat_minor": 5
}
